{
 "cells": [
  {
   "cell_type": "markdown",
   "metadata": {},
   "source": [
    "José Pedro Pinto - 201603713<br>\n",
    "27/04/2020 - FCUP<br>"
   ]
  },
  {
   "cell_type": "markdown",
   "metadata": {},
   "source": [
    "# Introduction"
   ]
  },
  {
   "cell_type": "markdown",
   "metadata": {},
   "source": [
    "With the rise of computing power and powerful machine learning algorithms, more and more, decisions are being made by a computer. The currently most effective methods are very complex, and their results hard to understand.<br>\n",
    "In several high risk situations (medical decisions, investments, laws, etc.) we need to know why a model made a particular prediction, in order to guarantee that it is reasonable and that we can explain it to the ones who will be affected, however, with most models that is not possible.<br>"
   ]
  },
  {
   "cell_type": "markdown",
   "metadata": {},
   "source": [
    "In this project we are going to analyze one of the new methods to handle this kind of problem, the interpret package and the community extension. This will allow us to more easily verify the results from the glass-box methods (those that are already understandable) and to obtain information otherwise unavailable from the black-box ones (those that are not usually understandable).<br>"
   ]
  },
  {
   "cell_type": "markdown",
   "metadata": {},
   "source": [
    "### Pre-Requirement"
   ]
  },
  {
   "cell_type": "markdown",
   "metadata": {},
   "source": [
    "dash and dash_cytoscape are requirements for the use of interpret, however, we were not able to get them working locally.<br>\n",
    "As such they are installed directly in the notebook.<br>"
   ]
  },
  {
   "cell_type": "code",
   "execution_count": 1,
   "metadata": {},
   "outputs": [
    {
     "name": "stdout",
     "output_type": "stream",
     "text": [
      "Requirement already satisfied: dash in f:\\python\\lib\\site-packages (1.11.0)\n",
      "Requirement already satisfied: Flask>=1.0.2 in f:\\python\\lib\\site-packages (from dash) (1.1.2)\n",
      "Requirement already satisfied: dash-html-components==1.0.3 in f:\\python\\lib\\site-packages (from dash) (1.0.3)\n",
      "Requirement already satisfied: dash-table==4.6.2 in f:\\python\\lib\\site-packages (from dash) (4.6.2)\n",
      "Requirement already satisfied: plotly in f:\\python\\lib\\site-packages (from dash) (4.6.0)\n",
      "Requirement already satisfied: dash-core-components==1.9.1 in f:\\python\\lib\\site-packages (from dash) (1.9.1)\n",
      "Requirement already satisfied: dash-renderer==1.4.0 in f:\\python\\lib\\site-packages (from dash) (1.4.0)\n",
      "Requirement already satisfied: future in f:\\python\\lib\\site-packages (from dash) (0.18.2)\n",
      "Requirement already satisfied: flask-compress in f:\\python\\lib\\site-packages (from dash) (1.4.0)\n",
      "Requirement already satisfied: Jinja2>=2.10.1 in f:\\python\\lib\\site-packages (from Flask>=1.0.2->dash) (2.11.1)\n",
      "Requirement already satisfied: click>=5.1 in f:\\python\\lib\\site-packages (from Flask>=1.0.2->dash) (7.1.1)\n",
      "Requirement already satisfied: itsdangerous>=0.24 in f:\\python\\lib\\site-packages (from Flask>=1.0.2->dash) (1.1.0)\n",
      "Requirement already satisfied: Werkzeug>=0.15 in f:\\python\\lib\\site-packages (from Flask>=1.0.2->dash) (1.0.0)\n",
      "Requirement already satisfied: retrying>=1.3.3 in f:\\python\\lib\\site-packages (from plotly->dash) (1.3.3)\n",
      "Requirement already satisfied: six in f:\\python\\lib\\site-packages (from plotly->dash) (1.14.0)\n",
      "Requirement already satisfied: MarkupSafe>=0.23 in f:\\python\\lib\\site-packages (from Jinja2>=2.10.1->Flask>=1.0.2->dash) (1.1.1)\n",
      "Requirement already satisfied: dash_cytoscape in f:\\python\\lib\\site-packages (0.1.1)\n",
      "Requirement already satisfied: dash in f:\\python\\lib\\site-packages (from dash_cytoscape) (1.11.0)\n",
      "Requirement already satisfied: dash-renderer in f:\\python\\lib\\site-packages (from dash_cytoscape) (1.4.0)\n",
      "Requirement already satisfied: dash-html-components in f:\\python\\lib\\site-packages (from dash_cytoscape) (1.0.3)\n",
      "Requirement already satisfied: future in f:\\python\\lib\\site-packages (from dash->dash_cytoscape) (0.18.2)\n",
      "Requirement already satisfied: dash-table==4.6.2 in f:\\python\\lib\\site-packages (from dash->dash_cytoscape) (4.6.2)\n",
      "Requirement already satisfied: Flask>=1.0.2 in f:\\python\\lib\\site-packages (from dash->dash_cytoscape) (1.1.2)\n",
      "Requirement already satisfied: plotly in f:\\python\\lib\\site-packages (from dash->dash_cytoscape) (4.6.0)\n",
      "Requirement already satisfied: dash-core-components==1.9.1 in f:\\python\\lib\\site-packages (from dash->dash_cytoscape) (1.9.1)\n",
      "Requirement already satisfied: flask-compress in f:\\python\\lib\\site-packages (from dash->dash_cytoscape) (1.4.0)\n",
      "Requirement already satisfied: Werkzeug>=0.15 in f:\\python\\lib\\site-packages (from Flask>=1.0.2->dash->dash_cytoscape) (1.0.0)\n",
      "Requirement already satisfied: Jinja2>=2.10.1 in f:\\python\\lib\\site-packages (from Flask>=1.0.2->dash->dash_cytoscape) (2.11.1)\n",
      "Requirement already satisfied: click>=5.1 in f:\\python\\lib\\site-packages (from Flask>=1.0.2->dash->dash_cytoscape) (7.1.1)\n",
      "Requirement already satisfied: itsdangerous>=0.24 in f:\\python\\lib\\site-packages (from Flask>=1.0.2->dash->dash_cytoscape) (1.1.0)\n",
      "Requirement already satisfied: six in f:\\python\\lib\\site-packages (from plotly->dash->dash_cytoscape) (1.14.0)\n",
      "Requirement already satisfied: retrying>=1.3.3 in f:\\python\\lib\\site-packages (from plotly->dash->dash_cytoscape) (1.3.3)\n",
      "Requirement already satisfied: MarkupSafe>=0.23 in f:\\python\\lib\\site-packages (from Jinja2>=2.10.1->Flask>=1.0.2->dash->dash_cytoscape) (1.1.1)\n"
     ]
    }
   ],
   "source": [
    "!pip install dash\n",
    "!pip install dash_cytoscape"
   ]
  },
  {
   "cell_type": "markdown",
   "metadata": {},
   "source": [
    "### Data import and visualization"
   ]
  },
  {
   "cell_type": "code",
   "execution_count": 2,
   "metadata": {},
   "outputs": [
    {
     "data": {
      "text/html": [
       "<div>\n",
       "<style scoped>\n",
       "    .dataframe tbody tr th:only-of-type {\n",
       "        vertical-align: middle;\n",
       "    }\n",
       "\n",
       "    .dataframe tbody tr th {\n",
       "        vertical-align: top;\n",
       "    }\n",
       "\n",
       "    .dataframe thead th {\n",
       "        text-align: right;\n",
       "    }\n",
       "</style>\n",
       "<table border=\"1\" class=\"dataframe\">\n",
       "  <thead>\n",
       "    <tr style=\"text-align: right;\">\n",
       "      <th></th>\n",
       "      <th>credit.policy</th>\n",
       "      <th>purpose</th>\n",
       "      <th>int.rate</th>\n",
       "      <th>installment</th>\n",
       "      <th>log.annual.inc</th>\n",
       "      <th>dti</th>\n",
       "      <th>fico</th>\n",
       "      <th>days.with.cr.line</th>\n",
       "      <th>revol.bal</th>\n",
       "      <th>revol.util</th>\n",
       "      <th>inq.last.6mths</th>\n",
       "      <th>delinq.2yrs</th>\n",
       "      <th>pub.rec</th>\n",
       "      <th>not.fully.paid</th>\n",
       "    </tr>\n",
       "  </thead>\n",
       "  <tbody>\n",
       "    <tr>\n",
       "      <th>0</th>\n",
       "      <td>1</td>\n",
       "      <td>debt_consolidation</td>\n",
       "      <td>0.1189</td>\n",
       "      <td>829.10</td>\n",
       "      <td>11.350407</td>\n",
       "      <td>19.48</td>\n",
       "      <td>737</td>\n",
       "      <td>5639.958333</td>\n",
       "      <td>28854</td>\n",
       "      <td>52.1</td>\n",
       "      <td>0.0</td>\n",
       "      <td>0.0</td>\n",
       "      <td>0.0</td>\n",
       "      <td>0</td>\n",
       "    </tr>\n",
       "    <tr>\n",
       "      <th>1</th>\n",
       "      <td>1</td>\n",
       "      <td>credit_card</td>\n",
       "      <td>0.1071</td>\n",
       "      <td>228.22</td>\n",
       "      <td>11.082143</td>\n",
       "      <td>14.29</td>\n",
       "      <td>707</td>\n",
       "      <td>2760.000000</td>\n",
       "      <td>33623</td>\n",
       "      <td>76.7</td>\n",
       "      <td>0.0</td>\n",
       "      <td>0.0</td>\n",
       "      <td>0.0</td>\n",
       "      <td>0</td>\n",
       "    </tr>\n",
       "    <tr>\n",
       "      <th>2</th>\n",
       "      <td>1</td>\n",
       "      <td>debt_consolidation</td>\n",
       "      <td>0.1357</td>\n",
       "      <td>366.86</td>\n",
       "      <td>10.373491</td>\n",
       "      <td>11.63</td>\n",
       "      <td>682</td>\n",
       "      <td>4710.000000</td>\n",
       "      <td>3511</td>\n",
       "      <td>25.6</td>\n",
       "      <td>1.0</td>\n",
       "      <td>0.0</td>\n",
       "      <td>0.0</td>\n",
       "      <td>0</td>\n",
       "    </tr>\n",
       "    <tr>\n",
       "      <th>3</th>\n",
       "      <td>1</td>\n",
       "      <td>debt_consolidation</td>\n",
       "      <td>0.1008</td>\n",
       "      <td>162.34</td>\n",
       "      <td>11.350407</td>\n",
       "      <td>8.10</td>\n",
       "      <td>712</td>\n",
       "      <td>2699.958333</td>\n",
       "      <td>33667</td>\n",
       "      <td>73.2</td>\n",
       "      <td>1.0</td>\n",
       "      <td>0.0</td>\n",
       "      <td>0.0</td>\n",
       "      <td>0</td>\n",
       "    </tr>\n",
       "    <tr>\n",
       "      <th>4</th>\n",
       "      <td>1</td>\n",
       "      <td>credit_card</td>\n",
       "      <td>0.1426</td>\n",
       "      <td>102.92</td>\n",
       "      <td>11.299732</td>\n",
       "      <td>14.97</td>\n",
       "      <td>667</td>\n",
       "      <td>4066.000000</td>\n",
       "      <td>4740</td>\n",
       "      <td>39.5</td>\n",
       "      <td>0.0</td>\n",
       "      <td>1.0</td>\n",
       "      <td>0.0</td>\n",
       "      <td>0</td>\n",
       "    </tr>\n",
       "    <tr>\n",
       "      <th>...</th>\n",
       "      <td>...</td>\n",
       "      <td>...</td>\n",
       "      <td>...</td>\n",
       "      <td>...</td>\n",
       "      <td>...</td>\n",
       "      <td>...</td>\n",
       "      <td>...</td>\n",
       "      <td>...</td>\n",
       "      <td>...</td>\n",
       "      <td>...</td>\n",
       "      <td>...</td>\n",
       "      <td>...</td>\n",
       "      <td>...</td>\n",
       "      <td>...</td>\n",
       "    </tr>\n",
       "    <tr>\n",
       "      <th>9573</th>\n",
       "      <td>0</td>\n",
       "      <td>all_other</td>\n",
       "      <td>0.1461</td>\n",
       "      <td>344.76</td>\n",
       "      <td>12.180755</td>\n",
       "      <td>10.39</td>\n",
       "      <td>672</td>\n",
       "      <td>10474.000000</td>\n",
       "      <td>215372</td>\n",
       "      <td>82.1</td>\n",
       "      <td>2.0</td>\n",
       "      <td>0.0</td>\n",
       "      <td>0.0</td>\n",
       "      <td>1</td>\n",
       "    </tr>\n",
       "    <tr>\n",
       "      <th>9574</th>\n",
       "      <td>0</td>\n",
       "      <td>all_other</td>\n",
       "      <td>0.1253</td>\n",
       "      <td>257.70</td>\n",
       "      <td>11.141862</td>\n",
       "      <td>0.21</td>\n",
       "      <td>722</td>\n",
       "      <td>4380.000000</td>\n",
       "      <td>184</td>\n",
       "      <td>1.1</td>\n",
       "      <td>5.0</td>\n",
       "      <td>0.0</td>\n",
       "      <td>0.0</td>\n",
       "      <td>1</td>\n",
       "    </tr>\n",
       "    <tr>\n",
       "      <th>9575</th>\n",
       "      <td>0</td>\n",
       "      <td>debt_consolidation</td>\n",
       "      <td>0.1071</td>\n",
       "      <td>97.81</td>\n",
       "      <td>10.596635</td>\n",
       "      <td>13.09</td>\n",
       "      <td>687</td>\n",
       "      <td>3450.041667</td>\n",
       "      <td>10036</td>\n",
       "      <td>82.9</td>\n",
       "      <td>8.0</td>\n",
       "      <td>0.0</td>\n",
       "      <td>0.0</td>\n",
       "      <td>1</td>\n",
       "    </tr>\n",
       "    <tr>\n",
       "      <th>9576</th>\n",
       "      <td>0</td>\n",
       "      <td>home_improvement</td>\n",
       "      <td>0.1600</td>\n",
       "      <td>351.58</td>\n",
       "      <td>10.819778</td>\n",
       "      <td>19.18</td>\n",
       "      <td>692</td>\n",
       "      <td>1800.000000</td>\n",
       "      <td>0</td>\n",
       "      <td>3.2</td>\n",
       "      <td>5.0</td>\n",
       "      <td>0.0</td>\n",
       "      <td>0.0</td>\n",
       "      <td>1</td>\n",
       "    </tr>\n",
       "    <tr>\n",
       "      <th>9577</th>\n",
       "      <td>0</td>\n",
       "      <td>debt_consolidation</td>\n",
       "      <td>0.1392</td>\n",
       "      <td>853.43</td>\n",
       "      <td>11.264464</td>\n",
       "      <td>16.28</td>\n",
       "      <td>732</td>\n",
       "      <td>4740.000000</td>\n",
       "      <td>37879</td>\n",
       "      <td>57.0</td>\n",
       "      <td>6.0</td>\n",
       "      <td>0.0</td>\n",
       "      <td>0.0</td>\n",
       "      <td>1</td>\n",
       "    </tr>\n",
       "  </tbody>\n",
       "</table>\n",
       "<p>9578 rows × 14 columns</p>\n",
       "</div>"
      ],
      "text/plain": [
       "      credit.policy             purpose  int.rate  installment  \\\n",
       "0                 1  debt_consolidation    0.1189       829.10   \n",
       "1                 1         credit_card    0.1071       228.22   \n",
       "2                 1  debt_consolidation    0.1357       366.86   \n",
       "3                 1  debt_consolidation    0.1008       162.34   \n",
       "4                 1         credit_card    0.1426       102.92   \n",
       "...             ...                 ...       ...          ...   \n",
       "9573              0           all_other    0.1461       344.76   \n",
       "9574              0           all_other    0.1253       257.70   \n",
       "9575              0  debt_consolidation    0.1071        97.81   \n",
       "9576              0    home_improvement    0.1600       351.58   \n",
       "9577              0  debt_consolidation    0.1392       853.43   \n",
       "\n",
       "      log.annual.inc    dti  fico  days.with.cr.line  revol.bal  revol.util  \\\n",
       "0          11.350407  19.48   737        5639.958333      28854        52.1   \n",
       "1          11.082143  14.29   707        2760.000000      33623        76.7   \n",
       "2          10.373491  11.63   682        4710.000000       3511        25.6   \n",
       "3          11.350407   8.10   712        2699.958333      33667        73.2   \n",
       "4          11.299732  14.97   667        4066.000000       4740        39.5   \n",
       "...              ...    ...   ...                ...        ...         ...   \n",
       "9573       12.180755  10.39   672       10474.000000     215372        82.1   \n",
       "9574       11.141862   0.21   722        4380.000000        184         1.1   \n",
       "9575       10.596635  13.09   687        3450.041667      10036        82.9   \n",
       "9576       10.819778  19.18   692        1800.000000          0         3.2   \n",
       "9577       11.264464  16.28   732        4740.000000      37879        57.0   \n",
       "\n",
       "      inq.last.6mths  delinq.2yrs  pub.rec  not.fully.paid  \n",
       "0                0.0          0.0      0.0               0  \n",
       "1                0.0          0.0      0.0               0  \n",
       "2                1.0          0.0      0.0               0  \n",
       "3                1.0          0.0      0.0               0  \n",
       "4                0.0          1.0      0.0               0  \n",
       "...              ...          ...      ...             ...  \n",
       "9573             2.0          0.0      0.0               1  \n",
       "9574             5.0          0.0      0.0               1  \n",
       "9575             8.0          0.0      0.0               1  \n",
       "9576             5.0          0.0      0.0               1  \n",
       "9577             6.0          0.0      0.0               1  \n",
       "\n",
       "[9578 rows x 14 columns]"
      ]
     },
     "execution_count": 2,
     "metadata": {},
     "output_type": "execute_result"
    }
   ],
   "source": [
    "import pandas as pd\n",
    "loans = pd.read_csv(\"loans.csv\")\n",
    "loans"
   ]
  },
  {
   "cell_type": "code",
   "execution_count": 3,
   "metadata": {},
   "outputs": [
    {
     "data": {
      "text/html": [
       "<div>\n",
       "<style scoped>\n",
       "    .dataframe tbody tr th:only-of-type {\n",
       "        vertical-align: middle;\n",
       "    }\n",
       "\n",
       "    .dataframe tbody tr th {\n",
       "        vertical-align: top;\n",
       "    }\n",
       "\n",
       "    .dataframe thead th {\n",
       "        text-align: right;\n",
       "    }\n",
       "</style>\n",
       "<table border=\"1\" class=\"dataframe\">\n",
       "  <thead>\n",
       "    <tr style=\"text-align: right;\">\n",
       "      <th></th>\n",
       "      <th>credit.policy</th>\n",
       "      <th>int.rate</th>\n",
       "      <th>installment</th>\n",
       "      <th>log.annual.inc</th>\n",
       "      <th>dti</th>\n",
       "      <th>fico</th>\n",
       "      <th>days.with.cr.line</th>\n",
       "      <th>revol.bal</th>\n",
       "      <th>revol.util</th>\n",
       "      <th>inq.last.6mths</th>\n",
       "      <th>delinq.2yrs</th>\n",
       "      <th>pub.rec</th>\n",
       "      <th>not.fully.paid</th>\n",
       "    </tr>\n",
       "  </thead>\n",
       "  <tbody>\n",
       "    <tr>\n",
       "      <th>count</th>\n",
       "      <td>9578.000000</td>\n",
       "      <td>9578.000000</td>\n",
       "      <td>9578.000000</td>\n",
       "      <td>9574.000000</td>\n",
       "      <td>9578.000000</td>\n",
       "      <td>9578.000000</td>\n",
       "      <td>9549.000000</td>\n",
       "      <td>9.578000e+03</td>\n",
       "      <td>9516.000000</td>\n",
       "      <td>9549.000000</td>\n",
       "      <td>9549.000000</td>\n",
       "      <td>9549.000000</td>\n",
       "      <td>9578.000000</td>\n",
       "    </tr>\n",
       "    <tr>\n",
       "      <th>mean</th>\n",
       "      <td>0.804970</td>\n",
       "      <td>0.122640</td>\n",
       "      <td>319.089413</td>\n",
       "      <td>10.931874</td>\n",
       "      <td>12.606679</td>\n",
       "      <td>710.846314</td>\n",
       "      <td>4562.026085</td>\n",
       "      <td>1.691396e+04</td>\n",
       "      <td>46.865677</td>\n",
       "      <td>1.571578</td>\n",
       "      <td>0.163787</td>\n",
       "      <td>0.062101</td>\n",
       "      <td>0.160054</td>\n",
       "    </tr>\n",
       "    <tr>\n",
       "      <th>std</th>\n",
       "      <td>0.396245</td>\n",
       "      <td>0.026847</td>\n",
       "      <td>207.071301</td>\n",
       "      <td>0.614736</td>\n",
       "      <td>6.883970</td>\n",
       "      <td>37.970537</td>\n",
       "      <td>2497.985733</td>\n",
       "      <td>3.375619e+04</td>\n",
       "      <td>29.018642</td>\n",
       "      <td>2.198095</td>\n",
       "      <td>0.546712</td>\n",
       "      <td>0.262152</td>\n",
       "      <td>0.366676</td>\n",
       "    </tr>\n",
       "    <tr>\n",
       "      <th>min</th>\n",
       "      <td>0.000000</td>\n",
       "      <td>0.060000</td>\n",
       "      <td>15.670000</td>\n",
       "      <td>7.547502</td>\n",
       "      <td>0.000000</td>\n",
       "      <td>612.000000</td>\n",
       "      <td>178.958333</td>\n",
       "      <td>0.000000e+00</td>\n",
       "      <td>0.000000</td>\n",
       "      <td>0.000000</td>\n",
       "      <td>0.000000</td>\n",
       "      <td>0.000000</td>\n",
       "      <td>0.000000</td>\n",
       "    </tr>\n",
       "    <tr>\n",
       "      <th>25%</th>\n",
       "      <td>1.000000</td>\n",
       "      <td>0.103900</td>\n",
       "      <td>163.770000</td>\n",
       "      <td>10.558414</td>\n",
       "      <td>7.212500</td>\n",
       "      <td>682.000000</td>\n",
       "      <td>2820.000000</td>\n",
       "      <td>3.187000e+03</td>\n",
       "      <td>22.700000</td>\n",
       "      <td>0.000000</td>\n",
       "      <td>0.000000</td>\n",
       "      <td>0.000000</td>\n",
       "      <td>0.000000</td>\n",
       "    </tr>\n",
       "    <tr>\n",
       "      <th>50%</th>\n",
       "      <td>1.000000</td>\n",
       "      <td>0.122100</td>\n",
       "      <td>268.950000</td>\n",
       "      <td>10.927987</td>\n",
       "      <td>12.665000</td>\n",
       "      <td>707.000000</td>\n",
       "      <td>4139.958333</td>\n",
       "      <td>8.596000e+03</td>\n",
       "      <td>46.400000</td>\n",
       "      <td>1.000000</td>\n",
       "      <td>0.000000</td>\n",
       "      <td>0.000000</td>\n",
       "      <td>0.000000</td>\n",
       "    </tr>\n",
       "    <tr>\n",
       "      <th>75%</th>\n",
       "      <td>1.000000</td>\n",
       "      <td>0.140700</td>\n",
       "      <td>432.762500</td>\n",
       "      <td>11.289832</td>\n",
       "      <td>17.950000</td>\n",
       "      <td>737.000000</td>\n",
       "      <td>5730.000000</td>\n",
       "      <td>1.824950e+04</td>\n",
       "      <td>71.000000</td>\n",
       "      <td>2.000000</td>\n",
       "      <td>0.000000</td>\n",
       "      <td>0.000000</td>\n",
       "      <td>0.000000</td>\n",
       "    </tr>\n",
       "    <tr>\n",
       "      <th>max</th>\n",
       "      <td>1.000000</td>\n",
       "      <td>0.216400</td>\n",
       "      <td>940.140000</td>\n",
       "      <td>14.528354</td>\n",
       "      <td>29.960000</td>\n",
       "      <td>827.000000</td>\n",
       "      <td>17639.958330</td>\n",
       "      <td>1.207359e+06</td>\n",
       "      <td>119.000000</td>\n",
       "      <td>33.000000</td>\n",
       "      <td>13.000000</td>\n",
       "      <td>5.000000</td>\n",
       "      <td>1.000000</td>\n",
       "    </tr>\n",
       "  </tbody>\n",
       "</table>\n",
       "</div>"
      ],
      "text/plain": [
       "       credit.policy     int.rate  installment  log.annual.inc          dti  \\\n",
       "count    9578.000000  9578.000000  9578.000000     9574.000000  9578.000000   \n",
       "mean        0.804970     0.122640   319.089413       10.931874    12.606679   \n",
       "std         0.396245     0.026847   207.071301        0.614736     6.883970   \n",
       "min         0.000000     0.060000    15.670000        7.547502     0.000000   \n",
       "25%         1.000000     0.103900   163.770000       10.558414     7.212500   \n",
       "50%         1.000000     0.122100   268.950000       10.927987    12.665000   \n",
       "75%         1.000000     0.140700   432.762500       11.289832    17.950000   \n",
       "max         1.000000     0.216400   940.140000       14.528354    29.960000   \n",
       "\n",
       "              fico  days.with.cr.line     revol.bal   revol.util  \\\n",
       "count  9578.000000        9549.000000  9.578000e+03  9516.000000   \n",
       "mean    710.846314        4562.026085  1.691396e+04    46.865677   \n",
       "std      37.970537        2497.985733  3.375619e+04    29.018642   \n",
       "min     612.000000         178.958333  0.000000e+00     0.000000   \n",
       "25%     682.000000        2820.000000  3.187000e+03    22.700000   \n",
       "50%     707.000000        4139.958333  8.596000e+03    46.400000   \n",
       "75%     737.000000        5730.000000  1.824950e+04    71.000000   \n",
       "max     827.000000       17639.958330  1.207359e+06   119.000000   \n",
       "\n",
       "       inq.last.6mths  delinq.2yrs      pub.rec  not.fully.paid  \n",
       "count     9549.000000  9549.000000  9549.000000     9578.000000  \n",
       "mean         1.571578     0.163787     0.062101        0.160054  \n",
       "std          2.198095     0.546712     0.262152        0.366676  \n",
       "min          0.000000     0.000000     0.000000        0.000000  \n",
       "25%          0.000000     0.000000     0.000000        0.000000  \n",
       "50%          1.000000     0.000000     0.000000        0.000000  \n",
       "75%          2.000000     0.000000     0.000000        0.000000  \n",
       "max         33.000000    13.000000     5.000000        1.000000  "
      ]
     },
     "execution_count": 3,
     "metadata": {},
     "output_type": "execute_result"
    }
   ],
   "source": [
    "loans.describe()"
   ]
  },
  {
   "cell_type": "markdown",
   "metadata": {},
   "source": [
    "Now we will check data integrity by verifying if there are any missing values.<br>"
   ]
  },
  {
   "cell_type": "code",
   "execution_count": 4,
   "metadata": {},
   "outputs": [
    {
     "name": "stdout",
     "output_type": "stream",
     "text": [
      "credit.policy        False\n",
      "purpose              False\n",
      "int.rate             False\n",
      "installment          False\n",
      "log.annual.inc        True\n",
      "dti                  False\n",
      "fico                 False\n",
      "days.with.cr.line     True\n",
      "revol.bal            False\n",
      "revol.util            True\n",
      "inq.last.6mths        True\n",
      "delinq.2yrs           True\n",
      "pub.rec               True\n",
      "not.fully.paid       False\n",
      "dtype: bool\n"
     ]
    }
   ],
   "source": [
    "print(loans.isna().any())"
   ]
  },
  {
   "cell_type": "markdown",
   "metadata": {},
   "source": [
    "### Handling missing values"
   ]
  },
  {
   "cell_type": "markdown",
   "metadata": {},
   "source": [
    "There are several missing values, and after analyzing the variable meanings, we have determined that the missing values likely have no special meaning.<br>\n",
    "There are two primary options now, either remove entries with missing values or impute them.<br>\n",
    "As the dataset is not huge, being only about 10000 entries, we decided to impute the values.<br>"
   ]
  },
  {
   "cell_type": "code",
   "execution_count": 5,
   "metadata": {},
   "outputs": [],
   "source": [
    "from sklearn.impute import SimpleImputer\n",
    "import numpy as np\n",
    "#get numerical columns (all except for purpose)\n",
    "numericalColumns = loans.drop(\"purpose\",axis=1)\n",
    "\n",
    "#create mean central imputer\n",
    "meanImputer = SimpleImputer(missing_values=np.nan, strategy='mean')\n",
    "#impute data with the mean values and turn back to dataframe\n",
    "numericalImputed = pd.DataFrame(meanImputer.fit_transform(numericalColumns))\n",
    "\n",
    "#add back column \"purpose\" in the same position\n",
    "numericalImputed.insert(1,\"purpose\",loans[\"purpose\"])"
   ]
  },
  {
   "cell_type": "code",
   "execution_count": 6,
   "metadata": {},
   "outputs": [],
   "source": [
    "#rename variable for clarity\n",
    "loansImputed = numericalImputed\n",
    "#change column names to the ones in the original data\n",
    "loansImputed.columns = loans.columns\n",
    "#change column types to the ones in the original data\n",
    "loansImputed = loansImputed.astype(loans.dtypes.to_dict())"
   ]
  },
  {
   "cell_type": "markdown",
   "metadata": {},
   "source": [
    "### Scaling feature values"
   ]
  },
  {
   "cell_type": "markdown",
   "metadata": {},
   "source": [
    "Several machine learning and statistical methods are sensitive to the scale of the data, as such we now apply a min-max scaler to our data.<br>\n",
    "We have decided to impute them using min-max imputation, rather than some other, in order to make future analysis easier.<br>"
   ]
  },
  {
   "cell_type": "code",
   "execution_count": 7,
   "metadata": {},
   "outputs": [],
   "source": [
    "from sklearn.preprocessing import MinMaxScaler\n",
    "#get numerical columns (all except for purpose)\n",
    "numericalColumns = loansImputed.drop(\"purpose\",axis=1)\n",
    "\n",
    "#create mean central imputer\n",
    "scaler = MinMaxScaler()\n",
    "#impute data with the mean values and turn back to dataframe\n",
    "numericalScaled = pd.DataFrame(scaler.fit_transform(numericalColumns))\n",
    "\n",
    "#add back column \"purpose\" in the same position\n",
    "numericalScaled.insert(1,\"purpose\",loans[\"purpose\"])"
   ]
  },
  {
   "cell_type": "code",
   "execution_count": 8,
   "metadata": {},
   "outputs": [],
   "source": [
    "#rename variable for clarity\n",
    "loansScaled= numericalScaled\n",
    "#change column names to the ones in the original data\n",
    "loansScaled.columns = loans.columns\n",
    "#change column types to the ones in the original data\n",
    "loansScaled = loansScaled.astype(loans.dtypes.to_dict())"
   ]
  },
  {
   "cell_type": "markdown",
   "metadata": {},
   "source": [
    "We now will do boxplots of all numerical variables.<br>\n",
    "We could have done this before, however, given that all features were in different scales, we could not place them in the same plot.<br>"
   ]
  },
  {
   "cell_type": "code",
   "execution_count": 9,
   "metadata": {},
   "outputs": [
    {
     "data": {
      "image/png": "[encoded data removed]",
      "text/plain": [
       "<Figure size 1440x720 with 1 Axes>"
      ]
     },
     "metadata": {
      "needs_background": "light"
     },
     "output_type": "display_data"
    }
   ],
   "source": [
    "loansNumeric = loansScaled.drop(\"purpose\",axis=1)\n",
    "boxplot = loansNumeric.boxplot(column=loansNumeric.columns.to_list(),figsize = (20,10))"
   ]
  },
  {
   "cell_type": "markdown",
   "metadata": {},
   "source": [
    "There are plenty of outliers, however, with such a large dataset it would e expected, and there are no extreme outliers.<br>"
   ]
  },
  {
   "cell_type": "markdown",
   "metadata": {},
   "source": [
    "### Dummies"
   ]
  },
  {
   "cell_type": "markdown",
   "metadata": {},
   "source": [
    "Most machine learning methods can only work with numerical data, as such we will now create dummy variables for our only categorical feature \"purpose\".<br>"
   ]
  },
  {
   "cell_type": "code",
   "execution_count": 10,
   "metadata": {},
   "outputs": [
    {
     "data": {
      "text/plain": [
       "7"
      ]
     },
     "execution_count": 10,
     "metadata": {},
     "output_type": "execute_result"
    }
   ],
   "source": [
    "#number of diferent values for purpose variable\n",
    "len(loansScaled[\"purpose\"].unique())"
   ]
  },
  {
   "cell_type": "markdown",
   "metadata": {},
   "source": [
    "With only 7 values for our variable, dummies will not create a very sparse dataset, which will improve learning and results.<br>"
   ]
  },
  {
   "cell_type": "code",
   "execution_count": 11,
   "metadata": {},
   "outputs": [
    {
     "data": {
      "text/html": [
       "<div>\n",
       "<style scoped>\n",
       "    .dataframe tbody tr th:only-of-type {\n",
       "        vertical-align: middle;\n",
       "    }\n",
       "\n",
       "    .dataframe tbody tr th {\n",
       "        vertical-align: top;\n",
       "    }\n",
       "\n",
       "    .dataframe thead th {\n",
       "        text-align: right;\n",
       "    }\n",
       "</style>\n",
       "<table border=\"1\" class=\"dataframe\">\n",
       "  <thead>\n",
       "    <tr style=\"text-align: right;\">\n",
       "      <th></th>\n",
       "      <th>credit.policy</th>\n",
       "      <th>int.rate</th>\n",
       "      <th>installment</th>\n",
       "      <th>log.annual.inc</th>\n",
       "      <th>dti</th>\n",
       "      <th>fico</th>\n",
       "      <th>days.with.cr.line</th>\n",
       "      <th>revol.bal</th>\n",
       "      <th>revol.util</th>\n",
       "      <th>inq.last.6mths</th>\n",
       "      <th>delinq.2yrs</th>\n",
       "      <th>pub.rec</th>\n",
       "      <th>not.fully.paid</th>\n",
       "      <th>purpose_all_other</th>\n",
       "      <th>purpose_credit_card</th>\n",
       "      <th>purpose_debt_consolidation</th>\n",
       "      <th>purpose_educational</th>\n",
       "      <th>purpose_home_improvement</th>\n",
       "      <th>purpose_major_purchase</th>\n",
       "      <th>purpose_small_business</th>\n",
       "    </tr>\n",
       "  </thead>\n",
       "  <tbody>\n",
       "    <tr>\n",
       "      <th>0</th>\n",
       "      <td>1</td>\n",
       "      <td>0.376598</td>\n",
       "      <td>0.879888</td>\n",
       "      <td>0.544762</td>\n",
       "      <td>0.650200</td>\n",
       "      <td>0</td>\n",
       "      <td>0.312754</td>\n",
       "      <td>0</td>\n",
       "      <td>0.437815</td>\n",
       "      <td>0.000000</td>\n",
       "      <td>0.000000</td>\n",
       "      <td>0.0</td>\n",
       "      <td>0</td>\n",
       "      <td>0</td>\n",
       "      <td>0</td>\n",
       "      <td>1</td>\n",
       "      <td>0</td>\n",
       "      <td>0</td>\n",
       "      <td>0</td>\n",
       "      <td>0</td>\n",
       "    </tr>\n",
       "    <tr>\n",
       "      <th>1</th>\n",
       "      <td>1</td>\n",
       "      <td>0.301151</td>\n",
       "      <td>0.229916</td>\n",
       "      <td>0.506334</td>\n",
       "      <td>0.476969</td>\n",
       "      <td>0</td>\n",
       "      <td>0.147818</td>\n",
       "      <td>0</td>\n",
       "      <td>0.644538</td>\n",
       "      <td>0.000000</td>\n",
       "      <td>0.000000</td>\n",
       "      <td>0.0</td>\n",
       "      <td>0</td>\n",
       "      <td>0</td>\n",
       "      <td>1</td>\n",
       "      <td>0</td>\n",
       "      <td>0</td>\n",
       "      <td>0</td>\n",
       "      <td>0</td>\n",
       "      <td>0</td>\n",
       "    </tr>\n",
       "    <tr>\n",
       "      <th>2</th>\n",
       "      <td>1</td>\n",
       "      <td>0.484015</td>\n",
       "      <td>0.379883</td>\n",
       "      <td>0.404820</td>\n",
       "      <td>0.388184</td>\n",
       "      <td>0</td>\n",
       "      <td>0.259495</td>\n",
       "      <td>0</td>\n",
       "      <td>0.215126</td>\n",
       "      <td>0.030303</td>\n",
       "      <td>0.000000</td>\n",
       "      <td>0.0</td>\n",
       "      <td>0</td>\n",
       "      <td>0</td>\n",
       "      <td>0</td>\n",
       "      <td>1</td>\n",
       "      <td>0</td>\n",
       "      <td>0</td>\n",
       "      <td>0</td>\n",
       "      <td>0</td>\n",
       "    </tr>\n",
       "    <tr>\n",
       "      <th>3</th>\n",
       "      <td>1</td>\n",
       "      <td>0.260870</td>\n",
       "      <td>0.158653</td>\n",
       "      <td>0.544762</td>\n",
       "      <td>0.270360</td>\n",
       "      <td>0</td>\n",
       "      <td>0.144379</td>\n",
       "      <td>0</td>\n",
       "      <td>0.615126</td>\n",
       "      <td>0.030303</td>\n",
       "      <td>0.000000</td>\n",
       "      <td>0.0</td>\n",
       "      <td>0</td>\n",
       "      <td>0</td>\n",
       "      <td>0</td>\n",
       "      <td>1</td>\n",
       "      <td>0</td>\n",
       "      <td>0</td>\n",
       "      <td>0</td>\n",
       "      <td>0</td>\n",
       "    </tr>\n",
       "    <tr>\n",
       "      <th>4</th>\n",
       "      <td>1</td>\n",
       "      <td>0.528133</td>\n",
       "      <td>0.094378</td>\n",
       "      <td>0.537503</td>\n",
       "      <td>0.499666</td>\n",
       "      <td>0</td>\n",
       "      <td>0.222613</td>\n",
       "      <td>0</td>\n",
       "      <td>0.331933</td>\n",
       "      <td>0.000000</td>\n",
       "      <td>0.076923</td>\n",
       "      <td>0.0</td>\n",
       "      <td>0</td>\n",
       "      <td>0</td>\n",
       "      <td>1</td>\n",
       "      <td>0</td>\n",
       "      <td>0</td>\n",
       "      <td>0</td>\n",
       "      <td>0</td>\n",
       "      <td>0</td>\n",
       "    </tr>\n",
       "    <tr>\n",
       "      <th>...</th>\n",
       "      <td>...</td>\n",
       "      <td>...</td>\n",
       "      <td>...</td>\n",
       "      <td>...</td>\n",
       "      <td>...</td>\n",
       "      <td>...</td>\n",
       "      <td>...</td>\n",
       "      <td>...</td>\n",
       "      <td>...</td>\n",
       "      <td>...</td>\n",
       "      <td>...</td>\n",
       "      <td>...</td>\n",
       "      <td>...</td>\n",
       "      <td>...</td>\n",
       "      <td>...</td>\n",
       "      <td>...</td>\n",
       "      <td>...</td>\n",
       "      <td>...</td>\n",
       "      <td>...</td>\n",
       "      <td>...</td>\n",
       "    </tr>\n",
       "    <tr>\n",
       "      <th>9573</th>\n",
       "      <td>0</td>\n",
       "      <td>0.550512</td>\n",
       "      <td>0.355977</td>\n",
       "      <td>0.663709</td>\n",
       "      <td>0.346796</td>\n",
       "      <td>0</td>\n",
       "      <td>0.589602</td>\n",
       "      <td>0</td>\n",
       "      <td>0.689916</td>\n",
       "      <td>0.060606</td>\n",
       "      <td>0.000000</td>\n",
       "      <td>0.0</td>\n",
       "      <td>1</td>\n",
       "      <td>1</td>\n",
       "      <td>0</td>\n",
       "      <td>0</td>\n",
       "      <td>0</td>\n",
       "      <td>0</td>\n",
       "      <td>0</td>\n",
       "      <td>0</td>\n",
       "    </tr>\n",
       "    <tr>\n",
       "      <th>9574</th>\n",
       "      <td>0</td>\n",
       "      <td>0.417519</td>\n",
       "      <td>0.261804</td>\n",
       "      <td>0.514888</td>\n",
       "      <td>0.007009</td>\n",
       "      <td>0</td>\n",
       "      <td>0.240596</td>\n",
       "      <td>0</td>\n",
       "      <td>0.009244</td>\n",
       "      <td>0.151515</td>\n",
       "      <td>0.000000</td>\n",
       "      <td>0.0</td>\n",
       "      <td>1</td>\n",
       "      <td>1</td>\n",
       "      <td>0</td>\n",
       "      <td>0</td>\n",
       "      <td>0</td>\n",
       "      <td>0</td>\n",
       "      <td>0</td>\n",
       "      <td>0</td>\n",
       "    </tr>\n",
       "    <tr>\n",
       "      <th>9575</th>\n",
       "      <td>0</td>\n",
       "      <td>0.301151</td>\n",
       "      <td>0.088851</td>\n",
       "      <td>0.436785</td>\n",
       "      <td>0.436916</td>\n",
       "      <td>0</td>\n",
       "      <td>0.187337</td>\n",
       "      <td>0</td>\n",
       "      <td>0.696639</td>\n",
       "      <td>0.242424</td>\n",
       "      <td>0.000000</td>\n",
       "      <td>0.0</td>\n",
       "      <td>1</td>\n",
       "      <td>0</td>\n",
       "      <td>0</td>\n",
       "      <td>1</td>\n",
       "      <td>0</td>\n",
       "      <td>0</td>\n",
       "      <td>0</td>\n",
       "      <td>0</td>\n",
       "    </tr>\n",
       "    <tr>\n",
       "      <th>9576</th>\n",
       "      <td>0</td>\n",
       "      <td>0.639386</td>\n",
       "      <td>0.363354</td>\n",
       "      <td>0.468750</td>\n",
       "      <td>0.640187</td>\n",
       "      <td>0</td>\n",
       "      <td>0.092838</td>\n",
       "      <td>0</td>\n",
       "      <td>0.026891</td>\n",
       "      <td>0.151515</td>\n",
       "      <td>0.000000</td>\n",
       "      <td>0.0</td>\n",
       "      <td>1</td>\n",
       "      <td>0</td>\n",
       "      <td>0</td>\n",
       "      <td>0</td>\n",
       "      <td>0</td>\n",
       "      <td>1</td>\n",
       "      <td>0</td>\n",
       "      <td>0</td>\n",
       "    </tr>\n",
       "    <tr>\n",
       "      <th>9577</th>\n",
       "      <td>0</td>\n",
       "      <td>0.506394</td>\n",
       "      <td>0.906206</td>\n",
       "      <td>0.532451</td>\n",
       "      <td>0.543391</td>\n",
       "      <td>0</td>\n",
       "      <td>0.261213</td>\n",
       "      <td>0</td>\n",
       "      <td>0.478992</td>\n",
       "      <td>0.181818</td>\n",
       "      <td>0.000000</td>\n",
       "      <td>0.0</td>\n",
       "      <td>1</td>\n",
       "      <td>0</td>\n",
       "      <td>0</td>\n",
       "      <td>1</td>\n",
       "      <td>0</td>\n",
       "      <td>0</td>\n",
       "      <td>0</td>\n",
       "      <td>0</td>\n",
       "    </tr>\n",
       "  </tbody>\n",
       "</table>\n",
       "<p>9578 rows × 20 columns</p>\n",
       "</div>"
      ],
      "text/plain": [
       "      credit.policy  int.rate  installment  log.annual.inc       dti  fico  \\\n",
       "0                 1  0.376598     0.879888        0.544762  0.650200     0   \n",
       "1                 1  0.301151     0.229916        0.506334  0.476969     0   \n",
       "2                 1  0.484015     0.379883        0.404820  0.388184     0   \n",
       "3                 1  0.260870     0.158653        0.544762  0.270360     0   \n",
       "4                 1  0.528133     0.094378        0.537503  0.499666     0   \n",
       "...             ...       ...          ...             ...       ...   ...   \n",
       "9573              0  0.550512     0.355977        0.663709  0.346796     0   \n",
       "9574              0  0.417519     0.261804        0.514888  0.007009     0   \n",
       "9575              0  0.301151     0.088851        0.436785  0.436916     0   \n",
       "9576              0  0.639386     0.363354        0.468750  0.640187     0   \n",
       "9577              0  0.506394     0.906206        0.532451  0.543391     0   \n",
       "\n",
       "      days.with.cr.line  revol.bal  revol.util  inq.last.6mths  delinq.2yrs  \\\n",
       "0              0.312754          0    0.437815        0.000000     0.000000   \n",
       "1              0.147818          0    0.644538        0.000000     0.000000   \n",
       "2              0.259495          0    0.215126        0.030303     0.000000   \n",
       "3              0.144379          0    0.615126        0.030303     0.000000   \n",
       "4              0.222613          0    0.331933        0.000000     0.076923   \n",
       "...                 ...        ...         ...             ...          ...   \n",
       "9573           0.589602          0    0.689916        0.060606     0.000000   \n",
       "9574           0.240596          0    0.009244        0.151515     0.000000   \n",
       "9575           0.187337          0    0.696639        0.242424     0.000000   \n",
       "9576           0.092838          0    0.026891        0.151515     0.000000   \n",
       "9577           0.261213          0    0.478992        0.181818     0.000000   \n",
       "\n",
       "      pub.rec  not.fully.paid  purpose_all_other  purpose_credit_card  \\\n",
       "0         0.0               0                  0                    0   \n",
       "1         0.0               0                  0                    1   \n",
       "2         0.0               0                  0                    0   \n",
       "3         0.0               0                  0                    0   \n",
       "4         0.0               0                  0                    1   \n",
       "...       ...             ...                ...                  ...   \n",
       "9573      0.0               1                  1                    0   \n",
       "9574      0.0               1                  1                    0   \n",
       "9575      0.0               1                  0                    0   \n",
       "9576      0.0               1                  0                    0   \n",
       "9577      0.0               1                  0                    0   \n",
       "\n",
       "      purpose_debt_consolidation  purpose_educational  \\\n",
       "0                              1                    0   \n",
       "1                              0                    0   \n",
       "2                              1                    0   \n",
       "3                              1                    0   \n",
       "4                              0                    0   \n",
       "...                          ...                  ...   \n",
       "9573                           0                    0   \n",
       "9574                           0                    0   \n",
       "9575                           1                    0   \n",
       "9576                           0                    0   \n",
       "9577                           1                    0   \n",
       "\n",
       "      purpose_home_improvement  purpose_major_purchase  purpose_small_business  \n",
       "0                            0                       0                       0  \n",
       "1                            0                       0                       0  \n",
       "2                            0                       0                       0  \n",
       "3                            0                       0                       0  \n",
       "4                            0                       0                       0  \n",
       "...                        ...                     ...                     ...  \n",
       "9573                         0                       0                       0  \n",
       "9574                         0                       0                       0  \n",
       "9575                         0                       0                       0  \n",
       "9576                         1                       0                       0  \n",
       "9577                         0                       0                       0  \n",
       "\n",
       "[9578 rows x 20 columns]"
      ]
     },
     "execution_count": 11,
     "metadata": {},
     "output_type": "execute_result"
    }
   ],
   "source": [
    "from sklearn.preprocessing import OneHotEncoder\n",
    "loansDummies = pd.get_dummies(loansScaled)\n",
    "loansDummies"
   ]
  },
  {
   "cell_type": "markdown",
   "metadata": {},
   "source": [
    "Now we will split the data into train and test sets, with the intended proportion of 80%-20%.<br>"
   ]
  },
  {
   "cell_type": "code",
   "execution_count": 12,
   "metadata": {},
   "outputs": [],
   "source": [
    "import numpy as np\n",
    "from sklearn.model_selection import train_test_split\n",
    "\n",
    "targetColumn = loansDummies[\"not.fully.paid\"]\n",
    "featureColumns = loansDummies.drop(\"not.fully.paid\",axis=1)"
   ]
  },
  {
   "cell_type": "code",
   "execution_count": 13,
   "metadata": {},
   "outputs": [],
   "source": [
    "#split the data into train and test, x and y\n",
    "loansTrainX, loansTestX, loansTrainY, loansTestY = train_test_split(featureColumns,            \n",
    "                                                    targetColumn,  \n",
    "                                                    test_size=0.2,\n",
    "                                                    random_state=1)"
   ]
  },
  {
   "cell_type": "markdown",
   "metadata": {},
   "source": [
    "# Modeling"
   ]
  },
  {
   "cell_type": "markdown",
   "metadata": {},
   "source": [
    "## Glass Box Models"
   ]
  },
  {
   "cell_type": "markdown",
   "metadata": {},
   "source": [
    "The glass box models we are going to use are linear regression, logistic regression, regression trees and the explainable boosting regressor.<br>"
   ]
  },
  {
   "cell_type": "code",
   "execution_count": 14,
   "metadata": {},
   "outputs": [],
   "source": [
    "from interpret.glassbox import LinearRegression, LogisticRegression, RegressionTree, ExplainableBoostingRegressor"
   ]
  },
  {
   "cell_type": "markdown",
   "metadata": {},
   "source": [
    "### Linear Regression - LR"
   ]
  },
  {
   "cell_type": "markdown",
   "metadata": {},
   "source": [
    "We will start with one of the simplest and oldest glass box method, linear regression.<br>\n",
    "Due to its simplicity and low complexity we are unlikely to overfit the data.<br>\n",
    "The results for this model will be used as a baseline, in further analysis.<br>"
   ]
  },
  {
   "cell_type": "code",
   "execution_count": 15,
   "metadata": {},
   "outputs": [],
   "source": [
    "LRModel = LinearRegression()\n",
    "LRModel.fit(loansTrainX, loansTrainY);"
   ]
  },
  {
   "cell_type": "markdown",
   "metadata": {},
   "source": [
    "Now that we have the trained model lets verify the train and test accuracies.<br>"
   ]
  },
  {
   "cell_type": "code",
   "execution_count": 16,
   "metadata": {},
   "outputs": [
    {
     "name": "stdout",
     "output_type": "stream",
     "text": [
      "0.8420777864787262\n",
      "0.831419624217119\n"
     ]
    }
   ],
   "source": [
    "from sklearn.metrics import accuracy_score\n",
    "#get predicted values for train data\n",
    "trainPred = LRModel.predict(loansTrainX).round()\n",
    "#get predicted values for test data\n",
    "testPred = LRModel.predict(loansTestX).round()\n",
    "\n",
    "print(accuracy_score(loansTrainY,trainPred))\n",
    "print(accuracy_score(loansTestY,testPred))"
   ]
  },
  {
   "cell_type": "markdown",
   "metadata": {},
   "source": [
    "The accuracies are quite high and very close, which indicates no serious under of over fitting.<br>\n",
    "We will no proceed with a more in depth analysis of the obtained results, using interpret_community GUI extension.<br>"
   ]
  },
  {
   "cell_type": "code",
   "execution_count": 17,
   "metadata": {},
   "outputs": [
    {
     "data": {
      "text/html": [
       "\n",
       "        <iframe\n",
       "            width=\"100%\"\n",
       "            height=\"1200\"\n",
       "            src=\"http://127.0.0.1:5000/1\"\n",
       "            frameborder=\"0\"\n",
       "            allowfullscreen\n",
       "        ></iframe>\n",
       "        "
      ],
      "text/plain": [
       "<IPython.lib.display.IFrame at 0xe5025d55f8>"
      ]
     },
     "metadata": {},
     "output_type": "display_data"
    }
   ],
   "source": [
    "from interpret_community.widget import ExplanationDashboard\n",
    "from interpret.ext.blackbox import MimicExplainer\n",
    "from interpret.ext.glassbox import LGBMExplainableModel\n",
    "from interpret.ext.glassbox import LinearExplainableModel\n",
    "from interpret.ext.glassbox import SGDExplainableModel\n",
    "from interpret.ext.glassbox import DecisionTreeExplainableModel\n",
    "\n",
    "#several of the functionalities used by interpret_community are deprecated, therefore producing warnings.\n",
    "#Use this to prevent the screen from being filled with warnings.\n",
    "import warnings; warnings.simplefilter('ignore')\n",
    "\n",
    "#create an explained for our trained model using the linear explainer\n",
    "explainer = MimicExplainer(LRModel, \n",
    "                           loansTestX, \n",
    "                           LinearExplainableModel, \n",
    "                           features=loansTrainX.columns.to_list())\n",
    "\n",
    "#get a global explanaion of the data\n",
    "LRGlobal = explainer.explain_global(loansTestX)\n",
    "\n",
    "#show the explanation GUI\n",
    "ExplanationDashboard(LRGlobal, LRModel, datasetX=loansTestX);"
   ]
  },
  {
   "cell_type": "markdown",
   "metadata": {},
   "source": [
    "After exploring the above results, several things can be noted.<br>\n",
    "The linear models seems to only have obtained an intercept, with the coefficients for all variables being 0.<br>\n",
    "There are a few explanations to this. First, we may have a bug in our code, second, the package itself may have a bug, and third, there may exist a regularization term.<br>\n",
    "Running the exact same code with a different dataset provided the weights for the model. This is reasonably strong evidence to contradict the first and second hypothesis.<br>\n",
    "Leading us to conclude that the linear regression model has a regularization term (such as LASSO).<br>"
   ]
  },
  {
   "cell_type": "markdown",
   "metadata": {},
   "source": [
    "### Logistic Regression - LogR"
   ]
  },
  {
   "cell_type": "markdown",
   "metadata": {},
   "source": [
    "Logistic regression is similar to linear regression, but instead of a linear function uses a logistic function.<br>\n",
    "Due to the complexity of our data and the increased expressiveness of this model, we expect better results than with linear regression.<br>"
   ]
  },
  {
   "cell_type": "code",
   "execution_count": 18,
   "metadata": {},
   "outputs": [],
   "source": [
    "LogRModel = LogisticRegression()\n",
    "LogRModel.fit(loansTrainX, loansTrainY);"
   ]
  },
  {
   "cell_type": "markdown",
   "metadata": {},
   "source": [
    "Now that we have the trained model lets verify the train and test accuracies."
   ]
  },
  {
   "cell_type": "code",
   "execution_count": 19,
   "metadata": {},
   "outputs": [
    {
     "name": "stdout",
     "output_type": "stream",
     "text": [
      "0.8423388149308274\n",
      "0.8324634655532359\n"
     ]
    }
   ],
   "source": [
    "#get predicted values for train data\n",
    "trainPred = LogRModel.predict(loansTrainX).round()\n",
    "#get predicted values for test data\n",
    "testPred = LogRModel.predict(loansTestX).round()\n",
    "\n",
    "print(accuracy_score(loansTrainY,trainPred))\n",
    "print(accuracy_score(loansTestY,testPred))"
   ]
  },
  {
   "cell_type": "markdown",
   "metadata": {},
   "source": [
    "The accuracies are quite high and very close, which indicates no serious under of over fitting. However, the results are not much better than with linear regression<br>\n",
    "We will not proceed with a more in depth analysis of the obtained results, using interpret_community GUI extension.<br>"
   ]
  },
  {
   "cell_type": "code",
   "execution_count": 20,
   "metadata": {},
   "outputs": [
    {
     "data": {
      "text/html": [
       "\n",
       "        <iframe\n",
       "            width=\"100%\"\n",
       "            height=\"1200\"\n",
       "            src=\"http://127.0.0.1:5000/2\"\n",
       "            frameborder=\"0\"\n",
       "            allowfullscreen\n",
       "        ></iframe>\n",
       "        "
      ],
      "text/plain": [
       "<IPython.lib.display.IFrame at 0xe50bf992b0>"
      ]
     },
     "metadata": {},
     "output_type": "display_data"
    }
   ],
   "source": [
    "#several of the functionalities used by interpret_community are deprecated, therefore producing warnings.\n",
    "#Use this to prevent the screen from being filled with warnings.\n",
    "import warnings; warnings.simplefilter('ignore')\n",
    "\n",
    "#create an explained for our trained model using the linear explainer\n",
    "explainer = MimicExplainer(LogRModel, \n",
    "                           loansTestX, \n",
    "                           LinearExplainableModel, \n",
    "                           features=loansTrainX.columns.to_list())\n",
    "\n",
    "#get a global explanaion of the data\n",
    "LogRGlobal = explainer.explain_global(loansTestX)\n",
    "\n",
    "#show the explanation GUI\n",
    "ExplanationDashboard(LogRGlobal, LogRModel, datasetX=loansTestX);"
   ]
  },
  {
   "cell_type": "markdown",
   "metadata": {},
   "source": [
    "The first thing to note is that this time, with equivalent code we obtained the importance values for the predictions.<br>\n",
    "The most important feature is by far the credit policy, in fact, all observations with credit policy of 1 where identified with the same class.<br>\n",
    "The second most important feature is “int.rate”, interest rate. The importance of this variable makes sense, given that its real importance is two-fold. First we would expect people with higher interest rates to have more difficulty paying back, secondly, the interest rate is assigned based on the risk of the individual, with higher risk individuals being expected to pay less often.<br>\n",
    "The third variable of most importance is “revo.util”, however at this point a clear pattern is harder to spot.<br>"
   ]
  },
  {
   "cell_type": "markdown",
   "metadata": {},
   "source": [
    "It is also worth noting that the variables \"revo.bal\", \"delinq.2yrs\" and \"fico\" have a weight of almost 0.<br>\n",
    "Lets now explore a few particular cases and check how the decision was made.<br>\n",
    "Given that the majority of cases are of class 0, we will focus our efforts in those of class 1.<br>"
   ]
  },
  {
   "cell_type": "markdown",
   "metadata": {},
   "source": [
    "The first one we will look at is the entry with index 329.<br>"
   ]
  },
  {
   "cell_type": "code",
   "execution_count": 21,
   "metadata": {},
   "outputs": [
    {
     "data": {
      "text/html": [
       "<div>\n",
       "<style scoped>\n",
       "    .dataframe tbody tr th:only-of-type {\n",
       "        vertical-align: middle;\n",
       "    }\n",
       "\n",
       "    .dataframe tbody tr th {\n",
       "        vertical-align: top;\n",
       "    }\n",
       "\n",
       "    .dataframe thead th {\n",
       "        text-align: right;\n",
       "    }\n",
       "</style>\n",
       "<table border=\"1\" class=\"dataframe\">\n",
       "  <thead>\n",
       "    <tr style=\"text-align: right;\">\n",
       "      <th></th>\n",
       "      <th>credit.policy</th>\n",
       "      <th>int.rate</th>\n",
       "      <th>installment</th>\n",
       "      <th>log.annual.inc</th>\n",
       "      <th>dti</th>\n",
       "      <th>fico</th>\n",
       "      <th>days.with.cr.line</th>\n",
       "      <th>revol.bal</th>\n",
       "      <th>revol.util</th>\n",
       "      <th>inq.last.6mths</th>\n",
       "      <th>delinq.2yrs</th>\n",
       "      <th>pub.rec</th>\n",
       "      <th>purpose_all_other</th>\n",
       "      <th>purpose_credit_card</th>\n",
       "      <th>purpose_debt_consolidation</th>\n",
       "      <th>purpose_educational</th>\n",
       "      <th>purpose_home_improvement</th>\n",
       "      <th>purpose_major_purchase</th>\n",
       "      <th>purpose_small_business</th>\n",
       "    </tr>\n",
       "  </thead>\n",
       "  <tbody>\n",
       "    <tr>\n",
       "      <th>329</th>\n",
       "      <td>0</td>\n",
       "      <td>0.535806</td>\n",
       "      <td>0.03323</td>\n",
       "      <td>0.494868</td>\n",
       "      <td>0.712283</td>\n",
       "      <td>0</td>\n",
       "      <td>0.326501</td>\n",
       "      <td>0</td>\n",
       "      <td>0.446218</td>\n",
       "      <td>0.727273</td>\n",
       "      <td>0.0</td>\n",
       "      <td>0.0</td>\n",
       "      <td>1</td>\n",
       "      <td>0</td>\n",
       "      <td>0</td>\n",
       "      <td>0</td>\n",
       "      <td>0</td>\n",
       "      <td>0</td>\n",
       "      <td>0</td>\n",
       "    </tr>\n",
       "  </tbody>\n",
       "</table>\n",
       "</div>"
      ],
      "text/plain": [
       "     credit.policy  int.rate  installment  log.annual.inc       dti  fico  \\\n",
       "329              0  0.535806      0.03323        0.494868  0.712283     0   \n",
       "\n",
       "     days.with.cr.line  revol.bal  revol.util  inq.last.6mths  delinq.2yrs  \\\n",
       "329           0.326501          0    0.446218        0.727273          0.0   \n",
       "\n",
       "     pub.rec  purpose_all_other  purpose_credit_card  \\\n",
       "329      0.0                  1                    0   \n",
       "\n",
       "     purpose_debt_consolidation  purpose_educational  \\\n",
       "329                           0                    0   \n",
       "\n",
       "     purpose_home_improvement  purpose_major_purchase  purpose_small_business  \n",
       "329                         0                       0                       0  "
      ]
     },
     "execution_count": 21,
     "metadata": {},
     "output_type": "execute_result"
    }
   ],
   "source": [
    "row = 329\n",
    "loansTestX.reset_index(drop=True).iloc[[row],:]"
   ]
  },
  {
   "cell_type": "markdown",
   "metadata": {},
   "source": [
    "By a large margin, the variable that is the most important is \"inq.last.6mths\", which is in the top percentile for the value. With a recent large amount of inquiries by the creditors, suggesting some kind of problem of late payment, we would expect this class.<br>"
   ]
  },
  {
   "cell_type": "markdown",
   "metadata": {},
   "source": [
    "By perturbing some of the values, some things can be noted.<br>\n",
    "First, changing \"credit.policy\", as expected changes the class.<br>\n",
    "Decreasing the \"int.rate\" (interest rate) changes the class, while increasing \"installment\" (value owed each month) increases our confidence in the prediction.<br>\n",
    "All these factors make logical sense, and are the most important factors in this particular decision.<br>"
   ]
  },
  {
   "cell_type": "markdown",
   "metadata": {},
   "source": [
    "The second and last case we are going to look at is the entry with index 574.<br>"
   ]
  },
  {
   "cell_type": "code",
   "execution_count": 22,
   "metadata": {},
   "outputs": [
    {
     "data": {
      "text/html": [
       "<div>\n",
       "<style scoped>\n",
       "    .dataframe tbody tr th:only-of-type {\n",
       "        vertical-align: middle;\n",
       "    }\n",
       "\n",
       "    .dataframe tbody tr th {\n",
       "        vertical-align: top;\n",
       "    }\n",
       "\n",
       "    .dataframe thead th {\n",
       "        text-align: right;\n",
       "    }\n",
       "</style>\n",
       "<table border=\"1\" class=\"dataframe\">\n",
       "  <thead>\n",
       "    <tr style=\"text-align: right;\">\n",
       "      <th></th>\n",
       "      <th>credit.policy</th>\n",
       "      <th>int.rate</th>\n",
       "      <th>installment</th>\n",
       "      <th>log.annual.inc</th>\n",
       "      <th>dti</th>\n",
       "      <th>fico</th>\n",
       "      <th>days.with.cr.line</th>\n",
       "      <th>revol.bal</th>\n",
       "      <th>revol.util</th>\n",
       "      <th>inq.last.6mths</th>\n",
       "      <th>delinq.2yrs</th>\n",
       "      <th>pub.rec</th>\n",
       "      <th>purpose_all_other</th>\n",
       "      <th>purpose_credit_card</th>\n",
       "      <th>purpose_debt_consolidation</th>\n",
       "      <th>purpose_educational</th>\n",
       "      <th>purpose_home_improvement</th>\n",
       "      <th>purpose_major_purchase</th>\n",
       "      <th>purpose_small_business</th>\n",
       "    </tr>\n",
       "  </thead>\n",
       "  <tbody>\n",
       "    <tr>\n",
       "      <th>574</th>\n",
       "      <td>0</td>\n",
       "      <td>0.758312</td>\n",
       "      <td>0.451415</td>\n",
       "      <td>0.437927</td>\n",
       "      <td>0.428238</td>\n",
       "      <td>0</td>\n",
       "      <td>0.15463</td>\n",
       "      <td>0</td>\n",
       "      <td>0.812605</td>\n",
       "      <td>0.363636</td>\n",
       "      <td>0.0</td>\n",
       "      <td>0.2</td>\n",
       "      <td>0</td>\n",
       "      <td>0</td>\n",
       "      <td>1</td>\n",
       "      <td>0</td>\n",
       "      <td>0</td>\n",
       "      <td>0</td>\n",
       "      <td>0</td>\n",
       "    </tr>\n",
       "  </tbody>\n",
       "</table>\n",
       "</div>"
      ],
      "text/plain": [
       "     credit.policy  int.rate  installment  log.annual.inc       dti  fico  \\\n",
       "574              0  0.758312     0.451415        0.437927  0.428238     0   \n",
       "\n",
       "     days.with.cr.line  revol.bal  revol.util  inq.last.6mths  delinq.2yrs  \\\n",
       "574            0.15463          0    0.812605        0.363636          0.0   \n",
       "\n",
       "     pub.rec  purpose_all_other  purpose_credit_card  \\\n",
       "574      0.2                  0                    0   \n",
       "\n",
       "     purpose_debt_consolidation  purpose_educational  \\\n",
       "574                           1                    0   \n",
       "\n",
       "     purpose_home_improvement  purpose_major_purchase  purpose_small_business  \n",
       "574                         0                       0                       0  "
      ]
     },
     "execution_count": 22,
     "metadata": {},
     "output_type": "execute_result"
    }
   ],
   "source": [
    "row = 574\n",
    "loansTestX.reset_index(drop=True).iloc[[row],:]"
   ]
  },
  {
   "cell_type": "markdown",
   "metadata": {},
   "source": [
    "Once again, the most important feature is \"inq.last.6mths\", however, with a relatively low value this time, has a slightly decrease in importance when compared to the last case.<br>\n",
    "This time \"revo.util\" (credit utilization vs total credit) is substantially more important, due to it being in the upper amounts.<br>\n",
    "Interest rate is algo very important and of high value.<br>\n",
    "This suggests an individual, whose credit use is high, while the also high interest rate prevents repayment, leading to large amounts of inquiries.<br>"
   ]
  },
  {
   "cell_type": "markdown",
   "metadata": {},
   "source": [
    "By perturbing some of the values, some things can be noted.<br>\n",
    "First, changing \"credit.policy\", as expected changes the class.<br>\n",
    "Once more decreasing the value of \"int.rate\" changes class. Decreasing \"revo.util\", also changes the class.<br>\n",
    "Once more the results are consistent with our intuitive understanding and require no further analysis.<br>"
   ]
  },
  {
   "cell_type": "markdown",
   "metadata": {},
   "source": [
    "### Regression Trees"
   ]
  },
  {
   "cell_type": "markdown",
   "metadata": {},
   "source": [
    "Regression trees are the last classical glass box model we will analyze.<br>\n",
    "They work by making a set of decisions in a row, following a tree structure to pick the decisions and selected classes.<br>"
   ]
  },
  {
   "cell_type": "code",
   "execution_count": 23,
   "metadata": {},
   "outputs": [],
   "source": [
    "treeModel = RegressionTree()\n",
    "treeModel.fit(loansTrainX, loansTrainY);"
   ]
  },
  {
   "cell_type": "markdown",
   "metadata": {},
   "source": [
    "Now that we have the trained model lets verify the train and test accuracies."
   ]
  },
  {
   "cell_type": "code",
   "execution_count": 24,
   "metadata": {},
   "outputs": [
    {
     "name": "stdout",
     "output_type": "stream",
     "text": [
      "0.8423388149308274\n",
      "0.831419624217119\n"
     ]
    }
   ],
   "source": [
    "#get predicted values for train data\n",
    "trainPred = treeModel.predict(loansTrainX).round()\n",
    "#get predicted values for test data\n",
    "testPred = treeModel.predict(loansTestX).round()\n",
    "\n",
    "print(accuracy_score(loansTrainY,trainPred))\n",
    "print(accuracy_score(loansTestY,testPred))"
   ]
  },
  {
   "cell_type": "markdown",
   "metadata": {},
   "source": [
    "The accuracies are quite high and very close, which indicates no serious under of over fitting. However, the results are not much better than with linear regression, and being similar to logistic regression.<br>\n",
    "We will now proceed with a more in depth-analysis of the obtained results, using interpret_community GUI extension."
   ]
  },
  {
   "cell_type": "code",
   "execution_count": 25,
   "metadata": {},
   "outputs": [
    {
     "data": {
      "text/html": [
       "<!-- http://127.0.0.1:7728/983747889472/ -->\n",
       "<iframe src=\"http://127.0.0.1:7728/983747889472/\" width=100% height=800 frameBorder=\"0\"></iframe>"
      ]
     },
     "metadata": {},
     "output_type": "display_data"
    },
    {
     "data": {
      "text/html": [
       "\n",
       "        <iframe\n",
       "            width=\"100%\"\n",
       "            height=\"1200\"\n",
       "            src=\"http://127.0.0.1:5000/3\"\n",
       "            frameborder=\"0\"\n",
       "            allowfullscreen\n",
       "        ></iframe>\n",
       "        "
      ],
      "text/plain": [
       "<IPython.lib.display.IFrame at 0xe50ece86a0>"
      ]
     },
     "metadata": {},
     "output_type": "display_data"
    }
   ],
   "source": [
    "#several of the functionalities used by interpret_community are deprecated, therefore producing warnings.\n",
    "#Use this to prevent the screen from being filled with warnings.\n",
    "import warnings; warnings.simplefilter('ignore')\n",
    "\n",
    "#create an explained for our trained model using the decision tree explainer\n",
    "explainer = MimicExplainer(treeModel, \n",
    "                           loansTestX, \n",
    "                           DecisionTreeExplainableModel, \n",
    "                           features=loansTrainX.columns.to_list())\n",
    "\n",
    "#get a global explanaion of the data\n",
    "treeGlobal = explainer.explain_global(loansTestX)\n",
    "\n",
    "from interpret import show\n",
    "#show tree structure\n",
    "show(treeModel.explain_global(loansTestX))\n",
    "#show the explanation GUI\n",
    "ExplanationDashboard(treeGlobal, treeModel, datasetX=loansTestX);"
   ]
  },
  {
   "cell_type": "markdown",
   "metadata": {},
   "source": [
    "Given that this is a decision tree, we will use, unlike for the other models, the function \"show\" from \"interpret\", to visualise the tree.<br>\n",
    "In agreement with the last model, \"credit.policy\" is the first to be used, splitting the data by the middle value (0.5).<br>"
   ]
  },
  {
   "cell_type": "markdown",
   "metadata": {},
   "source": [
    "The importance of the variables is about the same, with the same orders, except for \"inc.last.6months\" which has jumped in importance to 3rd place.<br>\n",
    "The overall values are close to the real ones, however, for the classification task, the output is not good, with only 2 values above 0.5, meaning only two values would be predicted as class 1.<br>"
   ]
  },
  {
   "cell_type": "markdown",
   "metadata": {},
   "source": [
    "Lets now look at one of these (class 1), with index 646."
   ]
  },
  {
   "cell_type": "code",
   "execution_count": 26,
   "metadata": {},
   "outputs": [
    {
     "data": {
      "text/html": [
       "<div>\n",
       "<style scoped>\n",
       "    .dataframe tbody tr th:only-of-type {\n",
       "        vertical-align: middle;\n",
       "    }\n",
       "\n",
       "    .dataframe tbody tr th {\n",
       "        vertical-align: top;\n",
       "    }\n",
       "\n",
       "    .dataframe thead th {\n",
       "        text-align: right;\n",
       "    }\n",
       "</style>\n",
       "<table border=\"1\" class=\"dataframe\">\n",
       "  <thead>\n",
       "    <tr style=\"text-align: right;\">\n",
       "      <th></th>\n",
       "      <th>credit.policy</th>\n",
       "      <th>int.rate</th>\n",
       "      <th>installment</th>\n",
       "      <th>log.annual.inc</th>\n",
       "      <th>dti</th>\n",
       "      <th>fico</th>\n",
       "      <th>days.with.cr.line</th>\n",
       "      <th>revol.bal</th>\n",
       "      <th>revol.util</th>\n",
       "      <th>inq.last.6mths</th>\n",
       "      <th>delinq.2yrs</th>\n",
       "      <th>pub.rec</th>\n",
       "      <th>purpose_all_other</th>\n",
       "      <th>purpose_credit_card</th>\n",
       "      <th>purpose_debt_consolidation</th>\n",
       "      <th>purpose_educational</th>\n",
       "      <th>purpose_home_improvement</th>\n",
       "      <th>purpose_major_purchase</th>\n",
       "      <th>purpose_small_business</th>\n",
       "    </tr>\n",
       "  </thead>\n",
       "  <tbody>\n",
       "    <tr>\n",
       "      <th>646</th>\n",
       "      <td>1</td>\n",
       "      <td>0.26087</td>\n",
       "      <td>0.146419</td>\n",
       "      <td>0.417657</td>\n",
       "      <td>0.624833</td>\n",
       "      <td>0</td>\n",
       "      <td>0.213106</td>\n",
       "      <td>0</td>\n",
       "      <td>0.832773</td>\n",
       "      <td>0.060606</td>\n",
       "      <td>0.0</td>\n",
       "      <td>0.0</td>\n",
       "      <td>0</td>\n",
       "      <td>0</td>\n",
       "      <td>1</td>\n",
       "      <td>0</td>\n",
       "      <td>0</td>\n",
       "      <td>0</td>\n",
       "      <td>0</td>\n",
       "    </tr>\n",
       "  </tbody>\n",
       "</table>\n",
       "</div>"
      ],
      "text/plain": [
       "     credit.policy  int.rate  installment  log.annual.inc       dti  fico  \\\n",
       "646              1   0.26087     0.146419        0.417657  0.624833     0   \n",
       "\n",
       "     days.with.cr.line  revol.bal  revol.util  inq.last.6mths  delinq.2yrs  \\\n",
       "646           0.213106          0    0.832773        0.060606          0.0   \n",
       "\n",
       "     pub.rec  purpose_all_other  purpose_credit_card  \\\n",
       "646      0.0                  0                    0   \n",
       "\n",
       "     purpose_debt_consolidation  purpose_educational  \\\n",
       "646                           1                    0   \n",
       "\n",
       "     purpose_home_improvement  purpose_major_purchase  purpose_small_business  \n",
       "646                         0                       0                       0  "
      ]
     },
     "execution_count": 26,
     "metadata": {},
     "output_type": "execute_result"
    }
   ],
   "source": [
    "row = 646\n",
    "loansTestX.reset_index(drop=True).iloc[[row],:]"
   ]
  },
  {
   "cell_type": "markdown",
   "metadata": {},
   "source": [
    "Unlike for the previous model (logistic regression), increasing \"int.rate\" or \"installment\", changes the class to the class 0. This does not make sense, implying that the model did not learn a correct rule, only an accurate one.<br>\n",
    "No further analysis on particular cases will be performed for this model, as it is clear that such results will keep appearing.<br>"
   ]
  },
  {
   "cell_type": "markdown",
   "metadata": {},
   "source": [
    "### Explainable Boosting Regressor - EBM"
   ]
  },
  {
   "cell_type": "markdown",
   "metadata": {},
   "source": [
    "EBM is the last glass box model we are going to analyze.<br>\n",
    "EBM is a recent development, created with the goals of achieving performance equivalent to state-of-the-art methods, such as, random forests or neural networks, while still being interpretable. These goals have, according to the creators, been achieved.<br>"
   ]
  },
  {
   "cell_type": "code",
   "execution_count": 27,
   "metadata": {},
   "outputs": [],
   "source": [
    "EBMModel = ExplainableBoostingRegressor()\n",
    "EBMModel.fit(loansTrainX, loansTrainY);"
   ]
  },
  {
   "cell_type": "markdown",
   "metadata": {},
   "source": [
    "Now that we have the trained model lets verify the train and test accuracies."
   ]
  },
  {
   "cell_type": "code",
   "execution_count": 28,
   "metadata": {},
   "outputs": [
    {
     "name": "stdout",
     "output_type": "stream",
     "text": [
      "0.8429913860610807\n",
      "0.8308977035490606\n"
     ]
    }
   ],
   "source": [
    "#get predicted values for train data\n",
    "trainPred = EBMModel.predict(loansTrainX).round()\n",
    "#get predicted values for test data\n",
    "testPred = EBMModel.predict(loansTestX).round()\n",
    "\n",
    "print(accuracy_score(loansTrainY,trainPred))\n",
    "print(accuracy_score(loansTestY,testPred))"
   ]
  },
  {
   "cell_type": "markdown",
   "metadata": {},
   "source": [
    "The accuracies are quite high and very close, which indicates no serious under of over fitting. The results are very similar to the ones from the previous methods, being in fact very slightly worse.<br>\n",
    "We will now proceed with a more in-depth analysis of the obtained results, using interpret_community GUI extension."
   ]
  },
  {
   "cell_type": "code",
   "execution_count": 29,
   "metadata": {},
   "outputs": [
    {
     "data": {
      "text/html": [
       "\n",
       "        <iframe\n",
       "            width=\"100%\"\n",
       "            height=\"1200\"\n",
       "            src=\"http://127.0.0.1:5000/4\"\n",
       "            frameborder=\"0\"\n",
       "            allowfullscreen\n",
       "        ></iframe>\n",
       "        "
      ],
      "text/plain": [
       "<IPython.lib.display.IFrame at 0xe50ef160f0>"
      ]
     },
     "metadata": {},
     "output_type": "display_data"
    }
   ],
   "source": [
    "#several of the functionalities used by interpret_community are deprecated, therefore producing warnings.\n",
    "#Use this to prevent the screen from being filled with warnings.\n",
    "import warnings; warnings.simplefilter('ignore')\n",
    "\n",
    "#create an explained for our trained model using the linear explainer\n",
    "explainer = MimicExplainer(EBMModel, \n",
    "                           loansTestX, \n",
    "                           LinearExplainableModel, \n",
    "                           features=loansTrainX.columns.to_list())\n",
    "\n",
    "#get a global explanaion of the data\n",
    "EBMGlobal = explainer.explain_global(loansTestX)\n",
    "\n",
    "#show the explanation GUI\n",
    "ExplanationDashboard(EBMGlobal, EBMModel, datasetX=loansTestX);"
   ]
  },
  {
   "cell_type": "markdown",
   "metadata": {},
   "source": [
    "Once again, the most important feature is credit policy. The other feature importance’s are in line with the ones from the decision tree. In fact the predictions are also very similar to the ones from the decision tree, with very few entries obtaining a value over 0.5, and as such few being classified with class one.<br>"
   ]
  },
  {
   "cell_type": "markdown",
   "metadata": {},
   "source": [
    "We will once more focus on the variables from class 1.<br>"
   ]
  },
  {
   "cell_type": "markdown",
   "metadata": {},
   "source": [
    "Lets now look at one of these (class 1), with index 996.<br>"
   ]
  },
  {
   "cell_type": "code",
   "execution_count": 30,
   "metadata": {},
   "outputs": [
    {
     "data": {
      "text/html": [
       "<div>\n",
       "<style scoped>\n",
       "    .dataframe tbody tr th:only-of-type {\n",
       "        vertical-align: middle;\n",
       "    }\n",
       "\n",
       "    .dataframe tbody tr th {\n",
       "        vertical-align: top;\n",
       "    }\n",
       "\n",
       "    .dataframe thead th {\n",
       "        text-align: right;\n",
       "    }\n",
       "</style>\n",
       "<table border=\"1\" class=\"dataframe\">\n",
       "  <thead>\n",
       "    <tr style=\"text-align: right;\">\n",
       "      <th></th>\n",
       "      <th>credit.policy</th>\n",
       "      <th>int.rate</th>\n",
       "      <th>installment</th>\n",
       "      <th>log.annual.inc</th>\n",
       "      <th>dti</th>\n",
       "      <th>fico</th>\n",
       "      <th>days.with.cr.line</th>\n",
       "      <th>revol.bal</th>\n",
       "      <th>revol.util</th>\n",
       "      <th>inq.last.6mths</th>\n",
       "      <th>delinq.2yrs</th>\n",
       "      <th>pub.rec</th>\n",
       "      <th>purpose_all_other</th>\n",
       "      <th>purpose_credit_card</th>\n",
       "      <th>purpose_debt_consolidation</th>\n",
       "      <th>purpose_educational</th>\n",
       "      <th>purpose_home_improvement</th>\n",
       "      <th>purpose_major_purchase</th>\n",
       "      <th>purpose_small_business</th>\n",
       "    </tr>\n",
       "  </thead>\n",
       "  <tbody>\n",
       "    <tr>\n",
       "      <th>996</th>\n",
       "      <td>0</td>\n",
       "      <td>0.817136</td>\n",
       "      <td>0.971324</td>\n",
       "      <td>0.536078</td>\n",
       "      <td>0.388518</td>\n",
       "      <td>0</td>\n",
       "      <td>0.328279</td>\n",
       "      <td>0</td>\n",
       "      <td>0.317647</td>\n",
       "      <td>0.121212</td>\n",
       "      <td>0.0</td>\n",
       "      <td>0.0</td>\n",
       "      <td>0</td>\n",
       "      <td>0</td>\n",
       "      <td>0</td>\n",
       "      <td>0</td>\n",
       "      <td>0</td>\n",
       "      <td>0</td>\n",
       "      <td>1</td>\n",
       "    </tr>\n",
       "  </tbody>\n",
       "</table>\n",
       "</div>"
      ],
      "text/plain": [
       "     credit.policy  int.rate  installment  log.annual.inc       dti  fico  \\\n",
       "996              0  0.817136     0.971324        0.536078  0.388518     0   \n",
       "\n",
       "     days.with.cr.line  revol.bal  revol.util  inq.last.6mths  delinq.2yrs  \\\n",
       "996           0.328279          0    0.317647        0.121212          0.0   \n",
       "\n",
       "     pub.rec  purpose_all_other  purpose_credit_card  \\\n",
       "996      0.0                  0                    0   \n",
       "\n",
       "     purpose_debt_consolidation  purpose_educational  \\\n",
       "996                           0                    0   \n",
       "\n",
       "     purpose_home_improvement  purpose_major_purchase  purpose_small_business  \n",
       "996                         0                       0                       1  "
      ]
     },
     "execution_count": 30,
     "metadata": {},
     "output_type": "execute_result"
    }
   ],
   "source": [
    "row = 996\n",
    "loansTestX.reset_index(drop=True).iloc[[row],:]"
   ]
  },
  {
   "cell_type": "markdown",
   "metadata": {},
   "source": [
    "The notable features of this entry are the high \"int.rate\" and the extremely high \"installment\".<br>\n",
    "One feature that does not look notable and yet has a large weight in the decision is the fact that the loan was for a small business. In fact, every other type of loan would be predicted as class 0.<br>"
   ]
  },
  {
   "cell_type": "markdown",
   "metadata": {},
   "source": [
    "We can also see that reducing either the \"int.rate\" or the \"instalment\" would result in a different class.<br>\n",
    "Looking at the \"ICE\" plots, we see that, the predicted value is not linear in these values, but nevertheless, follows a reasonable curve, mostly increasing as these value are also increased.<br>"
   ]
  },
  {
   "cell_type": "markdown",
   "metadata": {},
   "source": [
    "Lets now look at the second entry, with index 1704.<br>"
   ]
  },
  {
   "cell_type": "code",
   "execution_count": 31,
   "metadata": {},
   "outputs": [
    {
     "data": {
      "text/html": [
       "<div>\n",
       "<style scoped>\n",
       "    .dataframe tbody tr th:only-of-type {\n",
       "        vertical-align: middle;\n",
       "    }\n",
       "\n",
       "    .dataframe tbody tr th {\n",
       "        vertical-align: top;\n",
       "    }\n",
       "\n",
       "    .dataframe thead th {\n",
       "        text-align: right;\n",
       "    }\n",
       "</style>\n",
       "<table border=\"1\" class=\"dataframe\">\n",
       "  <thead>\n",
       "    <tr style=\"text-align: right;\">\n",
       "      <th></th>\n",
       "      <th>credit.policy</th>\n",
       "      <th>int.rate</th>\n",
       "      <th>installment</th>\n",
       "      <th>log.annual.inc</th>\n",
       "      <th>dti</th>\n",
       "      <th>fico</th>\n",
       "      <th>days.with.cr.line</th>\n",
       "      <th>revol.bal</th>\n",
       "      <th>revol.util</th>\n",
       "      <th>inq.last.6mths</th>\n",
       "      <th>delinq.2yrs</th>\n",
       "      <th>pub.rec</th>\n",
       "      <th>purpose_all_other</th>\n",
       "      <th>purpose_credit_card</th>\n",
       "      <th>purpose_debt_consolidation</th>\n",
       "      <th>purpose_educational</th>\n",
       "      <th>purpose_home_improvement</th>\n",
       "      <th>purpose_major_purchase</th>\n",
       "      <th>purpose_small_business</th>\n",
       "    </tr>\n",
       "  </thead>\n",
       "  <tbody>\n",
       "    <tr>\n",
       "      <th>1704</th>\n",
       "      <td>0</td>\n",
       "      <td>0.861253</td>\n",
       "      <td>0.940917</td>\n",
       "      <td>0.532451</td>\n",
       "      <td>0.405207</td>\n",
       "      <td>0</td>\n",
       "      <td>0.092835</td>\n",
       "      <td>0</td>\n",
       "      <td>0.637815</td>\n",
       "      <td>0.121212</td>\n",
       "      <td>0.0</td>\n",
       "      <td>0.0</td>\n",
       "      <td>0</td>\n",
       "      <td>0</td>\n",
       "      <td>0</td>\n",
       "      <td>0</td>\n",
       "      <td>0</td>\n",
       "      <td>0</td>\n",
       "      <td>1</td>\n",
       "    </tr>\n",
       "  </tbody>\n",
       "</table>\n",
       "</div>"
      ],
      "text/plain": [
       "      credit.policy  int.rate  installment  log.annual.inc       dti  fico  \\\n",
       "1704              0  0.861253     0.940917        0.532451  0.405207     0   \n",
       "\n",
       "      days.with.cr.line  revol.bal  revol.util  inq.last.6mths  delinq.2yrs  \\\n",
       "1704           0.092835          0    0.637815        0.121212          0.0   \n",
       "\n",
       "      pub.rec  purpose_all_other  purpose_credit_card  \\\n",
       "1704      0.0                  0                    0   \n",
       "\n",
       "      purpose_debt_consolidation  purpose_educational  \\\n",
       "1704                           0                    0   \n",
       "\n",
       "      purpose_home_improvement  purpose_major_purchase  purpose_small_business  \n",
       "1704                         0                       0                       1  "
      ]
     },
     "execution_count": 31,
     "metadata": {},
     "output_type": "execute_result"
    }
   ],
   "source": [
    "row = 1704\n",
    "loansTestX.reset_index(drop=True).iloc[[row],:]"
   ]
  },
  {
   "cell_type": "markdown",
   "metadata": {},
   "source": [
    "For this entry, which is one of the very few with class 1 we can see that the values and import aces are almost identical to the previous case. Such leaves us to believe that only under very specific circumstances will the model predict class 1 and that those are always the same.<br>\n",
    "Given the similarity with the previous entry we will not analyze the values in detail.<br"
   ]
  },
  {
   "cell_type": "markdown",
   "metadata": {},
   "source": [
    "## Black Box Models"
   ]
  },
  {
   "cell_type": "markdown",
   "metadata": {},
   "source": [
    "Black box models are those which are not inherently interpretable. These comprise the bulk of the modern high performance models, and as such being able to understand their results would be very useful.<br>\n",
    "This will be done, much like in the previous part, with the use of the interpret library.<br>\n",
    "We will look at a total of 3 models, with those being, random forests, support vector machines and artificial neural networks.<br>"
   ]
  },
  {
   "cell_type": "markdown",
   "metadata": {},
   "source": [
    "### Random Forests"
   ]
  },
  {
   "cell_type": "markdown",
   "metadata": {},
   "source": [
    "Random forests use an ensemble of decision trees in order to make a prediction, this allows a high flexibility while having a lower chance to overfit, usually leading to a discrepancy between train and test set error. Despite of this discrepancy, the test performance usually surpasses the one in decision trees.<br>\n",
    "Random forests are considered, by some authors, glass box, interpretable, methods. We will, however, not consider them as such. The combination of decision trees, using different entries and in each node parameters, does not seem to very understandable.<br>  "
   ]
  },
  {
   "cell_type": "code",
   "execution_count": 32,
   "metadata": {},
   "outputs": [
    {
     "data": {
      "text/plain": [
       "RandomForestRegressor(bootstrap=True, ccp_alpha=0.0, criterion='mse',\n",
       "                      max_depth=None, max_features='auto', max_leaf_nodes=None,\n",
       "                      max_samples=None, min_impurity_decrease=0.0,\n",
       "                      min_impurity_split=None, min_samples_leaf=1,\n",
       "                      min_samples_split=2, min_weight_fraction_leaf=0.0,\n",
       "                      n_estimators=100, n_jobs=None, oob_score=False,\n",
       "                      random_state=None, verbose=0, warm_start=False)"
      ]
     },
     "execution_count": 32,
     "metadata": {},
     "output_type": "execute_result"
    }
   ],
   "source": [
    "from sklearn.ensemble import RandomForestRegressor\n",
    "\n",
    "forestModel = RandomForestRegressor().fit(loansTrainX, loansTrainY);\n",
    "forestModel"
   ]
  },
  {
   "cell_type": "code",
   "execution_count": 33,
   "metadata": {},
   "outputs": [
    {
     "name": "stdout",
     "output_type": "stream",
     "text": [
      "1.0\n",
      "0.8272442588726514\n"
     ]
    }
   ],
   "source": [
    "#get predicted values for train data\n",
    "trainPred = forestModel.predict(loansTrainX).round()\n",
    "#get predicted values for test data\n",
    "testPred = forestModel.predict(loansTestX).round()\n",
    "\n",
    "print(accuracy_score(loansTrainY,trainPred))\n",
    "print(accuracy_score(loansTestY,testPred))"
   ]
  },
  {
   "cell_type": "markdown",
   "metadata": {},
   "source": [
    "The model accuracies behaved as expected, with the train accuracy extremely high and different from the lower, but yet high, test accuracy.<br>\n",
    "Although usually these values would indicate overfitting, this is common, and as such no concern, for random forests.<br>\n",
    "We will now proceed with a more in depth analysis of the obtained results, using interpret_community GUI extension.<br>"
   ]
  },
  {
   "cell_type": "code",
   "execution_count": 34,
   "metadata": {},
   "outputs": [
    {
     "data": {
      "text/html": [
       "\n",
       "        <iframe\n",
       "            width=\"100%\"\n",
       "            height=\"1200\"\n",
       "            src=\"http://127.0.0.1:5000/5\"\n",
       "            frameborder=\"0\"\n",
       "            allowfullscreen\n",
       "        ></iframe>\n",
       "        "
      ],
      "text/plain": [
       "<IPython.lib.display.IFrame at 0xe50f17da58>"
      ]
     },
     "metadata": {},
     "output_type": "display_data"
    }
   ],
   "source": [
    "from interpret.ext.blackbox import TabularExplainer\n",
    "\n",
    "#several of the functionalities used by interpret_community are deprecated, therefore producing warnings.\n",
    "#Use this to prevent the screen from being filled with warnings.\n",
    "import warnings; warnings.simplefilter('ignore')\n",
    "\n",
    "#create an explained for our trained model using automatically picked explainer\n",
    "explainer = TabularExplainer(forestModel, \n",
    "                           loansTestX, \n",
    "                           features=loansTrainX.columns.to_list())\n",
    "\n",
    "#get a global explanaion of the data\n",
    "forestGlobal = explainer.explain_global(loansTestX)\n",
    "\n",
    "#show the explanation GUI\n",
    "ExplanationDashboard(forestGlobal, forestModel, datasetX=loansTestX);"
   ]
  },
  {
   "cell_type": "markdown",
   "metadata": {},
   "source": [
    "Unlike for all the previous methods, for which \"credit.policy\" was the most important variable, for random forests, the \"int.rate\" is the most important one. \"credit.policy\" is still, nevertheless, very important, in second place.<br>\n",
    "The biggest change in the importance metrics is the \"log.annual.inc\", now in third place, while in all the other methods, was substantially less important.<br>"
   ]
  },
  {
   "cell_type": "markdown",
   "metadata": {},
   "source": [
    "As usual lets now analyse some of the entries classified as the class 1.<br>\n",
    "Lets now look at one of these (class 1), with index 223.<br>"
   ]
  },
  {
   "cell_type": "code",
   "execution_count": 35,
   "metadata": {},
   "outputs": [
    {
     "data": {
      "text/html": [
       "<div>\n",
       "<style scoped>\n",
       "    .dataframe tbody tr th:only-of-type {\n",
       "        vertical-align: middle;\n",
       "    }\n",
       "\n",
       "    .dataframe tbody tr th {\n",
       "        vertical-align: top;\n",
       "    }\n",
       "\n",
       "    .dataframe thead th {\n",
       "        text-align: right;\n",
       "    }\n",
       "</style>\n",
       "<table border=\"1\" class=\"dataframe\">\n",
       "  <thead>\n",
       "    <tr style=\"text-align: right;\">\n",
       "      <th></th>\n",
       "      <th>credit.policy</th>\n",
       "      <th>int.rate</th>\n",
       "      <th>installment</th>\n",
       "      <th>log.annual.inc</th>\n",
       "      <th>dti</th>\n",
       "      <th>fico</th>\n",
       "      <th>days.with.cr.line</th>\n",
       "      <th>revol.bal</th>\n",
       "      <th>revol.util</th>\n",
       "      <th>inq.last.6mths</th>\n",
       "      <th>delinq.2yrs</th>\n",
       "      <th>pub.rec</th>\n",
       "      <th>purpose_all_other</th>\n",
       "      <th>purpose_credit_card</th>\n",
       "      <th>purpose_debt_consolidation</th>\n",
       "      <th>purpose_educational</th>\n",
       "      <th>purpose_home_improvement</th>\n",
       "      <th>purpose_major_purchase</th>\n",
       "      <th>purpose_small_business</th>\n",
       "    </tr>\n",
       "  </thead>\n",
       "  <tbody>\n",
       "    <tr>\n",
       "      <th>223</th>\n",
       "      <td>0</td>\n",
       "      <td>0.883632</td>\n",
       "      <td>0.985603</td>\n",
       "      <td>0.581696</td>\n",
       "      <td>0.540721</td>\n",
       "      <td>0</td>\n",
       "      <td>0.689021</td>\n",
       "      <td>0</td>\n",
       "      <td>0.10084</td>\n",
       "      <td>0.0</td>\n",
       "      <td>0.076923</td>\n",
       "      <td>0.0</td>\n",
       "      <td>0</td>\n",
       "      <td>0</td>\n",
       "      <td>0</td>\n",
       "      <td>0</td>\n",
       "      <td>0</td>\n",
       "      <td>0</td>\n",
       "      <td>1</td>\n",
       "    </tr>\n",
       "  </tbody>\n",
       "</table>\n",
       "</div>"
      ],
      "text/plain": [
       "     credit.policy  int.rate  installment  log.annual.inc       dti  fico  \\\n",
       "223              0  0.883632     0.985603        0.581696  0.540721     0   \n",
       "\n",
       "     days.with.cr.line  revol.bal  revol.util  inq.last.6mths  delinq.2yrs  \\\n",
       "223           0.689021          0     0.10084             0.0     0.076923   \n",
       "\n",
       "     pub.rec  purpose_all_other  purpose_credit_card  \\\n",
       "223      0.0                  0                    0   \n",
       "\n",
       "     purpose_debt_consolidation  purpose_educational  \\\n",
       "223                           0                    0   \n",
       "\n",
       "     purpose_home_improvement  purpose_major_purchase  purpose_small_business  \n",
       "223                         0                       0                       1  "
      ]
     },
     "execution_count": 35,
     "metadata": {},
     "output_type": "execute_result"
    }
   ],
   "source": [
    "row = 223\n",
    "loansTestX.reset_index(drop=True).iloc[[row],:]"
   ]
  },
  {
   "cell_type": "markdown",
   "metadata": {},
   "source": [
    "Much like with the entries with class 1 in decision trees and EBM, this entry has high \"int.rate\" and very high \"installment\".<br>\n",
    "Surprisingly, changing \"credit.policy\" to 1 gives a value of 0.5, meaning it would still be classified as being of class 1. This is the first instance in which this happens.<br>\n",
    "Lowering \"int.rate\" or \"installment\" results in a class change, as we would expect.<br>"
   ]
  },
  {
   "cell_type": "markdown",
   "metadata": {},
   "source": [
    "The second entry we are going to look at is the one with index 725.<br>"
   ]
  },
  {
   "cell_type": "code",
   "execution_count": 36,
   "metadata": {},
   "outputs": [
    {
     "data": {
      "text/html": [
       "<div>\n",
       "<style scoped>\n",
       "    .dataframe tbody tr th:only-of-type {\n",
       "        vertical-align: middle;\n",
       "    }\n",
       "\n",
       "    .dataframe tbody tr th {\n",
       "        vertical-align: top;\n",
       "    }\n",
       "\n",
       "    .dataframe thead th {\n",
       "        text-align: right;\n",
       "    }\n",
       "</style>\n",
       "<table border=\"1\" class=\"dataframe\">\n",
       "  <thead>\n",
       "    <tr style=\"text-align: right;\">\n",
       "      <th></th>\n",
       "      <th>credit.policy</th>\n",
       "      <th>int.rate</th>\n",
       "      <th>installment</th>\n",
       "      <th>log.annual.inc</th>\n",
       "      <th>dti</th>\n",
       "      <th>fico</th>\n",
       "      <th>days.with.cr.line</th>\n",
       "      <th>revol.bal</th>\n",
       "      <th>revol.util</th>\n",
       "      <th>inq.last.6mths</th>\n",
       "      <th>delinq.2yrs</th>\n",
       "      <th>pub.rec</th>\n",
       "      <th>purpose_all_other</th>\n",
       "      <th>purpose_credit_card</th>\n",
       "      <th>purpose_debt_consolidation</th>\n",
       "      <th>purpose_educational</th>\n",
       "      <th>purpose_home_improvement</th>\n",
       "      <th>purpose_major_purchase</th>\n",
       "      <th>purpose_small_business</th>\n",
       "    </tr>\n",
       "  </thead>\n",
       "  <tbody>\n",
       "    <tr>\n",
       "      <th>725</th>\n",
       "      <td>1</td>\n",
       "      <td>0.0</td>\n",
       "      <td>0.188724</td>\n",
       "      <td>0.427158</td>\n",
       "      <td>0.343792</td>\n",
       "      <td>0</td>\n",
       "      <td>0.11351</td>\n",
       "      <td>0</td>\n",
       "      <td>0.007563</td>\n",
       "      <td>0.181818</td>\n",
       "      <td>0.0</td>\n",
       "      <td>0.0</td>\n",
       "      <td>0</td>\n",
       "      <td>0</td>\n",
       "      <td>0</td>\n",
       "      <td>0</td>\n",
       "      <td>1</td>\n",
       "      <td>0</td>\n",
       "      <td>0</td>\n",
       "    </tr>\n",
       "  </tbody>\n",
       "</table>\n",
       "</div>"
      ],
      "text/plain": [
       "     credit.policy  int.rate  installment  log.annual.inc       dti  fico  \\\n",
       "725              1       0.0     0.188724        0.427158  0.343792     0   \n",
       "\n",
       "     days.with.cr.line  revol.bal  revol.util  inq.last.6mths  delinq.2yrs  \\\n",
       "725            0.11351          0    0.007563        0.181818          0.0   \n",
       "\n",
       "     pub.rec  purpose_all_other  purpose_credit_card  \\\n",
       "725      0.0                  0                    0   \n",
       "\n",
       "     purpose_debt_consolidation  purpose_educational  \\\n",
       "725                           0                    0   \n",
       "\n",
       "     purpose_home_improvement  purpose_major_purchase  purpose_small_business  \n",
       "725                         1                       0                       0  "
      ]
     },
     "execution_count": 36,
     "metadata": {},
     "output_type": "execute_result"
    }
   ],
   "source": [
    "row = 725\n",
    "loansTestX.reset_index(drop=True).iloc[[row],:]"
   ]
  },
  {
   "cell_type": "markdown",
   "metadata": {},
   "source": [
    "This one in particular is quite interesting, with an \"int.rate\" of 0 and low \"installment\", which on top also has \"credit.policy\" of 1.<br>\n",
    "All this should imply almost certainly that this would be of class 0, which is the real class. This indicates some overfitting, given that it goes against the general data distribution.<br>"
   ]
  },
  {
   "cell_type": "markdown",
   "metadata": {},
   "source": [
    "Slightly increasing any of these values causes the predicted class to be 0 once more. This goes against common sense and what was observed for all previous models.<br>"
   ]
  },
  {
   "cell_type": "markdown",
   "metadata": {},
   "source": [
    "### Support Vector Machines - SVM"
   ]
  },
  {
   "cell_type": "markdown",
   "metadata": {},
   "source": [
    "Support vector machines use a \"kernel\" function to transform the data into a higher dimensional one and then find a linear model, in that new space, to make predictions. We expect it to perform similarly to the previous methods.<br>"
   ]
  },
  {
   "cell_type": "code",
   "execution_count": 48,
   "metadata": {},
   "outputs": [
    {
     "data": {
      "text/plain": [
       "SVC(C=1.0, break_ties=False, cache_size=200, class_weight=None, coef0=0.0,\n",
       "    decision_function_shape='ovr', degree=3, gamma='scale', kernel='rbf',\n",
       "    max_iter=-1, probability=False, random_state=None, shrinking=True,\n",
       "    tol=0.001, verbose=False)"
      ]
     },
     "execution_count": 48,
     "metadata": {},
     "output_type": "execute_result"
    }
   ],
   "source": [
    "from sklearn import svm\n",
    "\n",
    "SVMModel = svm.SVC().fit(loansTrainX, loansTrainY);\n",
    "SVMModel"
   ]
  },
  {
   "cell_type": "code",
   "execution_count": 49,
   "metadata": {},
   "outputs": [
    {
     "name": "stdout",
     "output_type": "stream",
     "text": [
      "0.8420777864787262\n",
      "0.831419624217119\n"
     ]
    }
   ],
   "source": [
    "#get predicted values for train data\n",
    "trainPred = SVMModel.predict(loansTrainX).round()\n",
    "#get predicted values for test data\n",
    "testPred = SVMModel.predict(loansTestX).round()\n",
    "\n",
    "print(accuracy_score(loansTrainY,trainPred))\n",
    "print(accuracy_score(loansTestY,testPred))"
   ]
  },
  {
   "cell_type": "markdown",
   "metadata": {},
   "source": [
    "The model accuracies are, as expected, similar to the ones from the previous models.<br>\n",
    "We will no proceed with a more in depth analysis of the obtained results, using interpret_community GUI extention.<br>"
   ]
  },
  {
   "cell_type": "code",
   "execution_count": 50,
   "metadata": {},
   "outputs": [
    {
     "data": {
      "text/html": [
       "\n",
       "        <iframe\n",
       "            width=\"100%\"\n",
       "            height=\"1200\"\n",
       "            src=\"http://127.0.0.1:5000/9\"\n",
       "            frameborder=\"0\"\n",
       "            allowfullscreen\n",
       "        ></iframe>\n",
       "        "
      ],
      "text/plain": [
       "<IPython.lib.display.IFrame at 0xe5025e0e10>"
      ]
     },
     "metadata": {},
     "output_type": "display_data"
    }
   ],
   "source": [
    "from interpret.ext.blackbox import TabularExplainer\n",
    "\n",
    "#several of the functionalities used by interpret_community are deprecated, therefore producing warnings.\n",
    "#Use this to prevent the screen from being filled with warnings.\n",
    "import warnings; warnings.simplefilter('ignore')\n",
    "\n",
    "#create an explained for our trained model using automatically picked explainer\n",
    "#create an explained for our trained model using LGBM explainer\n",
    "explainer = MimicExplainer(SVMModel, \n",
    "                       loansTestX, \n",
    "                       LGBMExplainableModel, \n",
    "                       features=loansTrainX.columns.to_list())\n",
    "\n",
    "#get a global explanaion of the data\n",
    "SVMGlobal = explainer.explain_global(loansTestX)\n",
    "\n",
    "#show the explanation GUI\n",
    "ExplanationDashboard(SVMGlobal, SVMModel, datasetX=loansTestX);"
   ]
  },
  {
   "cell_type": "markdown",
   "metadata": {},
   "source": [
    "Unlike for most of the previous methods, for which \"credit.policy\" was the most important variable, for the SVM, the \"int.rate\" is the most important one, like in random forests.<br>\n",
    "\"credit.policy\" is now with its lowest importance so far, in fourth place. The biggest change in the importance metrics is the \"inq.last.6mths\", now in third place, while in all the other methods, was substantially less important."
   ]
  },
  {
   "cell_type": "markdown",
   "metadata": {},
   "source": [
    "As usual lets now analyse some of the entries classified as the class 1. Lets now look at one of these (class 1), with index 427.<br>"
   ]
  },
  {
   "cell_type": "code",
   "execution_count": 51,
   "metadata": {},
   "outputs": [
    {
     "data": {
      "text/html": [
       "<div>\n",
       "<style scoped>\n",
       "    .dataframe tbody tr th:only-of-type {\n",
       "        vertical-align: middle;\n",
       "    }\n",
       "\n",
       "    .dataframe tbody tr th {\n",
       "        vertical-align: top;\n",
       "    }\n",
       "\n",
       "    .dataframe thead th {\n",
       "        text-align: right;\n",
       "    }\n",
       "</style>\n",
       "<table border=\"1\" class=\"dataframe\">\n",
       "  <thead>\n",
       "    <tr style=\"text-align: right;\">\n",
       "      <th></th>\n",
       "      <th>credit.policy</th>\n",
       "      <th>int.rate</th>\n",
       "      <th>installment</th>\n",
       "      <th>log.annual.inc</th>\n",
       "      <th>dti</th>\n",
       "      <th>fico</th>\n",
       "      <th>days.with.cr.line</th>\n",
       "      <th>revol.bal</th>\n",
       "      <th>revol.util</th>\n",
       "      <th>inq.last.6mths</th>\n",
       "      <th>delinq.2yrs</th>\n",
       "      <th>pub.rec</th>\n",
       "      <th>purpose_all_other</th>\n",
       "      <th>purpose_credit_card</th>\n",
       "      <th>purpose_debt_consolidation</th>\n",
       "      <th>purpose_educational</th>\n",
       "      <th>purpose_home_improvement</th>\n",
       "      <th>purpose_major_purchase</th>\n",
       "      <th>purpose_small_business</th>\n",
       "    </tr>\n",
       "  </thead>\n",
       "  <tbody>\n",
       "    <tr>\n",
       "      <th>427</th>\n",
       "      <td>0</td>\n",
       "      <td>0.773018</td>\n",
       "      <td>0.766104</td>\n",
       "      <td>0.5214</td>\n",
       "      <td>0.805407</td>\n",
       "      <td>0</td>\n",
       "      <td>0.204515</td>\n",
       "      <td>0</td>\n",
       "      <td>0.394958</td>\n",
       "      <td>0.151515</td>\n",
       "      <td>0.0</td>\n",
       "      <td>0.2</td>\n",
       "      <td>0</td>\n",
       "      <td>0</td>\n",
       "      <td>0</td>\n",
       "      <td>0</td>\n",
       "      <td>0</td>\n",
       "      <td>0</td>\n",
       "      <td>1</td>\n",
       "    </tr>\n",
       "  </tbody>\n",
       "</table>\n",
       "</div>"
      ],
      "text/plain": [
       "     credit.policy  int.rate  installment  log.annual.inc       dti  fico  \\\n",
       "427              0  0.773018     0.766104          0.5214  0.805407     0   \n",
       "\n",
       "     days.with.cr.line  revol.bal  revol.util  inq.last.6mths  delinq.2yrs  \\\n",
       "427           0.204515          0    0.394958        0.151515          0.0   \n",
       "\n",
       "     pub.rec  purpose_all_other  purpose_credit_card  \\\n",
       "427      0.2                  0                    0   \n",
       "\n",
       "     purpose_debt_consolidation  purpose_educational  \\\n",
       "427                           0                    0   \n",
       "\n",
       "     purpose_home_improvement  purpose_major_purchase  purpose_small_business  \n",
       "427                         0                       0                       1  "
      ]
     },
     "execution_count": 51,
     "metadata": {},
     "output_type": "execute_result"
    }
   ],
   "source": [
    "row = 427\n",
    "loansTestX.reset_index(drop=True).iloc[[row],:]"
   ]
  },
  {
   "cell_type": "markdown",
   "metadata": {},
   "source": [
    "Much like with the entries with class 1 in decision trees and EBM, this entry has high \"int.rate\" and very high \"installment\". Surprisingly, changing \"credit.policy\" to 1 gives a value of 0.753, meaning it would still be classified as being of class 1. This is the second instance in which this happens. We need to lower both \"int.rate\" and \"installment\" to obtain a class change, being much more rigid than previous methods.<br>"
   ]
  },
  {
   "cell_type": "markdown",
   "metadata": {},
   "source": [
    "The second entry we are going to look at is the one with index 1197.<br>"
   ]
  },
  {
   "cell_type": "code",
   "execution_count": 52,
   "metadata": {},
   "outputs": [
    {
     "data": {
      "text/html": [
       "<div>\n",
       "<style scoped>\n",
       "    .dataframe tbody tr th:only-of-type {\n",
       "        vertical-align: middle;\n",
       "    }\n",
       "\n",
       "    .dataframe tbody tr th {\n",
       "        vertical-align: top;\n",
       "    }\n",
       "\n",
       "    .dataframe thead th {\n",
       "        text-align: right;\n",
       "    }\n",
       "</style>\n",
       "<table border=\"1\" class=\"dataframe\">\n",
       "  <thead>\n",
       "    <tr style=\"text-align: right;\">\n",
       "      <th></th>\n",
       "      <th>credit.policy</th>\n",
       "      <th>int.rate</th>\n",
       "      <th>installment</th>\n",
       "      <th>log.annual.inc</th>\n",
       "      <th>dti</th>\n",
       "      <th>fico</th>\n",
       "      <th>days.with.cr.line</th>\n",
       "      <th>revol.bal</th>\n",
       "      <th>revol.util</th>\n",
       "      <th>inq.last.6mths</th>\n",
       "      <th>delinq.2yrs</th>\n",
       "      <th>pub.rec</th>\n",
       "      <th>purpose_all_other</th>\n",
       "      <th>purpose_credit_card</th>\n",
       "      <th>purpose_debt_consolidation</th>\n",
       "      <th>purpose_educational</th>\n",
       "      <th>purpose_home_improvement</th>\n",
       "      <th>purpose_major_purchase</th>\n",
       "      <th>purpose_small_business</th>\n",
       "    </tr>\n",
       "  </thead>\n",
       "  <tbody>\n",
       "    <tr>\n",
       "      <th>1197</th>\n",
       "      <td>1</td>\n",
       "      <td>0.786445</td>\n",
       "      <td>0.964801</td>\n",
       "      <td>0.743347</td>\n",
       "      <td>0.4002</td>\n",
       "      <td>0</td>\n",
       "      <td>0.286985</td>\n",
       "      <td>0</td>\n",
       "      <td>0.046218</td>\n",
       "      <td>0.212121</td>\n",
       "      <td>0.0</td>\n",
       "      <td>0.0</td>\n",
       "      <td>0</td>\n",
       "      <td>0</td>\n",
       "      <td>0</td>\n",
       "      <td>0</td>\n",
       "      <td>0</td>\n",
       "      <td>0</td>\n",
       "      <td>1</td>\n",
       "    </tr>\n",
       "  </tbody>\n",
       "</table>\n",
       "</div>"
      ],
      "text/plain": [
       "      credit.policy  int.rate  installment  log.annual.inc     dti  fico  \\\n",
       "1197              1  0.786445     0.964801        0.743347  0.4002     0   \n",
       "\n",
       "      days.with.cr.line  revol.bal  revol.util  inq.last.6mths  delinq.2yrs  \\\n",
       "1197           0.286985          0    0.046218        0.212121          0.0   \n",
       "\n",
       "      pub.rec  purpose_all_other  purpose_credit_card  \\\n",
       "1197      0.0                  0                    0   \n",
       "\n",
       "      purpose_debt_consolidation  purpose_educational  \\\n",
       "1197                           0                    0   \n",
       "\n",
       "      purpose_home_improvement  purpose_major_purchase  purpose_small_business  \n",
       "1197                         0                       0                       1  "
      ]
     },
     "execution_count": 52,
     "metadata": {},
     "output_type": "execute_result"
    }
   ],
   "source": [
    "row = 1197\n",
    "loansTestX.reset_index(drop=True).iloc[[row],:]"
   ]
  },
  {
   "cell_type": "markdown",
   "metadata": {},
   "source": [
    "This one in particular is quite interesting, with an \"int.rate\" of 0 and low \"installment\". All this should imply almost certainly that this would be of class 0. This shows the previously found rigidity to these features.<br>"
   ]
  },
  {
   "cell_type": "markdown",
   "metadata": {},
   "source": [
    "### Neural Networks - NN"
   ]
  },
  {
   "cell_type": "markdown",
   "metadata": {},
   "source": [
    "Neural networks have in the recent years, resurged with a lot of popularity, on account of the increase in computing power and dataset sizes. They have been used to achieve results, which were previously thought impossible.<br>\n",
    "However, the types of datasets in which these results are achieved are quite different from the one we are using. As such we expect similar results to the ones obtained by most of the previous methods.<br>"
   ]
  },
  {
   "cell_type": "code",
   "execution_count": 42,
   "metadata": {},
   "outputs": [
    {
     "data": {
      "text/plain": [
       "MLPClassifier(activation='relu', alpha=0.0001, batch_size='auto', beta_1=0.9,\n",
       "              beta_2=0.999, early_stopping=False, epsilon=1e-08,\n",
       "              hidden_layer_sizes=(100,), learning_rate='constant',\n",
       "              learning_rate_init=0.001, max_fun=15000, max_iter=200,\n",
       "              momentum=0.9, n_iter_no_change=10, nesterovs_momentum=True,\n",
       "              power_t=0.5, random_state=None, shuffle=True, solver='adam',\n",
       "              tol=0.0001, validation_fraction=0.1, verbose=False,\n",
       "              warm_start=False)"
      ]
     },
     "execution_count": 42,
     "metadata": {},
     "output_type": "execute_result"
    }
   ],
   "source": [
    "from sklearn.neural_network import MLPClassifier\n",
    "\n",
    "MLPModel = MLPClassifier().fit(loansTrainX, loansTrainY);\n",
    "MLPModel"
   ]
  },
  {
   "cell_type": "code",
   "execution_count": 43,
   "metadata": {},
   "outputs": [
    {
     "name": "stdout",
     "output_type": "stream",
     "text": [
      "0.8467762986165492\n",
      "0.8319415448851775\n"
     ]
    }
   ],
   "source": [
    "#get predicted values for train data\n",
    "trainPred = MLPModel.predict(loansTrainX).round()\n",
    "#get predicted values for test data\n",
    "testPred = MLPModel.predict(loansTestX).round()\n",
    "\n",
    "print(accuracy_score(loansTrainY,trainPred))\n",
    "print(accuracy_score(loansTestY,testPred))"
   ]
  },
  {
   "cell_type": "markdown",
   "metadata": {},
   "source": [
    "The model accuracies are, as expected, similar to the ones from the previous models.<br>\n",
    "We will now proceed with a more in depth analysis of the obtained results, using interpret_community GUI extension.<br>"
   ]
  },
  {
   "cell_type": "code",
   "execution_count": 44,
   "metadata": {},
   "outputs": [
    {
     "data": {
      "text/html": [
       "\n",
       "        <iframe\n",
       "            width=\"100%\"\n",
       "            height=\"1200\"\n",
       "            src=\"http://127.0.0.1:5000/7\"\n",
       "            frameborder=\"0\"\n",
       "            allowfullscreen\n",
       "        ></iframe>\n",
       "        "
      ],
      "text/plain": [
       "<IPython.lib.display.IFrame at 0xe511d6b908>"
      ]
     },
     "metadata": {},
     "output_type": "display_data"
    }
   ],
   "source": [
    "from interpret.ext.blackbox import TabularExplainer\n",
    "\n",
    "#several of the functionalities used by interpret_community are deprecated, therefore producing warnings.\n",
    "#Use this to prevent the screen from being filled with warnings.\n",
    "import warnings; warnings.simplefilter('ignore')\n",
    "\n",
    "#create an explained for our trained model using LGBM explainer\n",
    "explainer = MimicExplainer(MLPModel, \n",
    "               loansTestX, \n",
    "               LGBMExplainableModel, \n",
    "               features=loansTrainX.columns.to_list())\n",
    "\n",
    "#get a global explanaion of the data\n",
    "MLPGlobal = explainer.explain_global(loansTestX)\n",
    "\n",
    "#show the explanation GUI\n",
    "ExplanationDashboard(MLPGlobal, MLPModel, datasetX=loansTestX);"
   ]
  },
  {
   "cell_type": "markdown",
   "metadata": {},
   "source": [
    "In line with the previous black box methods, \"credit.policy\" has a lower importance, while \"int.rate\" a higher one. Both the values and order are quite similar to the one from the SVM.<br>"
   ]
  },
  {
   "cell_type": "markdown",
   "metadata": {},
   "source": [
    "As usual lets now analyse some of the entries classified as the class 1.<br>\n",
    "Lets now look at one of these (class 1), with index 243.<br>"
   ]
  },
  {
   "cell_type": "code",
   "execution_count": 45,
   "metadata": {},
   "outputs": [
    {
     "data": {
      "text/html": [
       "<div>\n",
       "<style scoped>\n",
       "    .dataframe tbody tr th:only-of-type {\n",
       "        vertical-align: middle;\n",
       "    }\n",
       "\n",
       "    .dataframe tbody tr th {\n",
       "        vertical-align: top;\n",
       "    }\n",
       "\n",
       "    .dataframe thead th {\n",
       "        text-align: right;\n",
       "    }\n",
       "</style>\n",
       "<table border=\"1\" class=\"dataframe\">\n",
       "  <thead>\n",
       "    <tr style=\"text-align: right;\">\n",
       "      <th></th>\n",
       "      <th>credit.policy</th>\n",
       "      <th>int.rate</th>\n",
       "      <th>installment</th>\n",
       "      <th>log.annual.inc</th>\n",
       "      <th>dti</th>\n",
       "      <th>fico</th>\n",
       "      <th>days.with.cr.line</th>\n",
       "      <th>revol.bal</th>\n",
       "      <th>revol.util</th>\n",
       "      <th>inq.last.6mths</th>\n",
       "      <th>delinq.2yrs</th>\n",
       "      <th>pub.rec</th>\n",
       "      <th>purpose_all_other</th>\n",
       "      <th>purpose_credit_card</th>\n",
       "      <th>purpose_debt_consolidation</th>\n",
       "      <th>purpose_educational</th>\n",
       "      <th>purpose_home_improvement</th>\n",
       "      <th>purpose_major_purchase</th>\n",
       "      <th>purpose_small_business</th>\n",
       "    </tr>\n",
       "  </thead>\n",
       "  <tbody>\n",
       "    <tr>\n",
       "      <th>243</th>\n",
       "      <td>0</td>\n",
       "      <td>0.381714</td>\n",
       "      <td>0.195831</td>\n",
       "      <td>0.549731</td>\n",
       "      <td>0.695594</td>\n",
       "      <td>0</td>\n",
       "      <td>0.286982</td>\n",
       "      <td>0</td>\n",
       "      <td>0.7</td>\n",
       "      <td>0.515152</td>\n",
       "      <td>0.0</td>\n",
       "      <td>0.2</td>\n",
       "      <td>0</td>\n",
       "      <td>0</td>\n",
       "      <td>1</td>\n",
       "      <td>0</td>\n",
       "      <td>0</td>\n",
       "      <td>0</td>\n",
       "      <td>0</td>\n",
       "    </tr>\n",
       "  </tbody>\n",
       "</table>\n",
       "</div>"
      ],
      "text/plain": [
       "     credit.policy  int.rate  installment  log.annual.inc       dti  fico  \\\n",
       "243              0  0.381714     0.195831        0.549731  0.695594     0   \n",
       "\n",
       "     days.with.cr.line  revol.bal  revol.util  inq.last.6mths  delinq.2yrs  \\\n",
       "243           0.286982          0         0.7        0.515152          0.0   \n",
       "\n",
       "     pub.rec  purpose_all_other  purpose_credit_card  \\\n",
       "243      0.2                  0                    0   \n",
       "\n",
       "     purpose_debt_consolidation  purpose_educational  \\\n",
       "243                           1                    0   \n",
       "\n",
       "     purpose_home_improvement  purpose_major_purchase  purpose_small_business  \n",
       "243                         0                       0                       0  "
      ]
     },
     "execution_count": 45,
     "metadata": {},
     "output_type": "execute_result"
    }
   ],
   "source": [
    "row = 243\n",
    "loansTestX.reset_index(drop=True).iloc[[row],:]"
   ]
  },
  {
   "cell_type": "markdown",
   "metadata": {},
   "source": [
    "This entry has a low \"int.rate\" and \"installment\", however, it was classified as 1 due to high  \"inq.last.6mths\" and \"credit.policy\" of 0.<br>\n",
    "Surprisingly, increasing the \"int.rate\", causes a change in class, which goes against common sense. At the same time, a change in \"credit.policy\" does not change its class.<br>"
   ]
  },
  {
   "cell_type": "markdown",
   "metadata": {},
   "source": [
    "The second entry we are going to look at is the one with index 1704."
   ]
  },
  {
   "cell_type": "code",
   "execution_count": 46,
   "metadata": {},
   "outputs": [
    {
     "data": {
      "text/html": [
       "<div>\n",
       "<style scoped>\n",
       "    .dataframe tbody tr th:only-of-type {\n",
       "        vertical-align: middle;\n",
       "    }\n",
       "\n",
       "    .dataframe tbody tr th {\n",
       "        vertical-align: top;\n",
       "    }\n",
       "\n",
       "    .dataframe thead th {\n",
       "        text-align: right;\n",
       "    }\n",
       "</style>\n",
       "<table border=\"1\" class=\"dataframe\">\n",
       "  <thead>\n",
       "    <tr style=\"text-align: right;\">\n",
       "      <th></th>\n",
       "      <th>credit.policy</th>\n",
       "      <th>int.rate</th>\n",
       "      <th>installment</th>\n",
       "      <th>log.annual.inc</th>\n",
       "      <th>dti</th>\n",
       "      <th>fico</th>\n",
       "      <th>days.with.cr.line</th>\n",
       "      <th>revol.bal</th>\n",
       "      <th>revol.util</th>\n",
       "      <th>inq.last.6mths</th>\n",
       "      <th>delinq.2yrs</th>\n",
       "      <th>pub.rec</th>\n",
       "      <th>purpose_all_other</th>\n",
       "      <th>purpose_credit_card</th>\n",
       "      <th>purpose_debt_consolidation</th>\n",
       "      <th>purpose_educational</th>\n",
       "      <th>purpose_home_improvement</th>\n",
       "      <th>purpose_major_purchase</th>\n",
       "      <th>purpose_small_business</th>\n",
       "    </tr>\n",
       "  </thead>\n",
       "  <tbody>\n",
       "    <tr>\n",
       "      <th>1704</th>\n",
       "      <td>0</td>\n",
       "      <td>0.861253</td>\n",
       "      <td>0.940917</td>\n",
       "      <td>0.532451</td>\n",
       "      <td>0.405207</td>\n",
       "      <td>0</td>\n",
       "      <td>0.092835</td>\n",
       "      <td>0</td>\n",
       "      <td>0.637815</td>\n",
       "      <td>0.121212</td>\n",
       "      <td>0.0</td>\n",
       "      <td>0.0</td>\n",
       "      <td>0</td>\n",
       "      <td>0</td>\n",
       "      <td>0</td>\n",
       "      <td>0</td>\n",
       "      <td>0</td>\n",
       "      <td>0</td>\n",
       "      <td>1</td>\n",
       "    </tr>\n",
       "  </tbody>\n",
       "</table>\n",
       "</div>"
      ],
      "text/plain": [
       "      credit.policy  int.rate  installment  log.annual.inc       dti  fico  \\\n",
       "1704              0  0.861253     0.940917        0.532451  0.405207     0   \n",
       "\n",
       "      days.with.cr.line  revol.bal  revol.util  inq.last.6mths  delinq.2yrs  \\\n",
       "1704           0.092835          0    0.637815        0.121212          0.0   \n",
       "\n",
       "      pub.rec  purpose_all_other  purpose_credit_card  \\\n",
       "1704      0.0                  0                    0   \n",
       "\n",
       "      purpose_debt_consolidation  purpose_educational  \\\n",
       "1704                           0                    0   \n",
       "\n",
       "      purpose_home_improvement  purpose_major_purchase  purpose_small_business  \n",
       "1704                         0                       0                       1  "
      ]
     },
     "execution_count": 46,
     "metadata": {},
     "output_type": "execute_result"
    }
   ],
   "source": [
    "row = 1704\n",
    "loansTestX.reset_index(drop=True).iloc[[row],:]"
   ]
  },
  {
   "cell_type": "markdown",
   "metadata": {},
   "source": [
    "This entry, has similar values to those we would expect to be in class one, high \"int.rate\" and \"instalment\" and \"credit.policy\" of 0.<br>\n",
    "Another pattern emerges, which was ignored until now due to lack of enough data. It would seem that \"purpose_small_business\", meaning that the purpose of the loan was to fund a small business, has a large weight in the decision of predicting class 1, meaning that these are riskier to fund.<br>"
   ]
  },
  {
   "cell_type": "markdown",
   "metadata": {},
   "source": [
    "Changing any values modifies (or not) the class as expected.<br>"
   ]
  },
  {
   "cell_type": "markdown",
   "metadata": {},
   "source": [
    "# Conclusion"
   ]
  },
  {
   "cell_type": "markdown",
   "metadata": {},
   "source": [
    "In general having interpretable models allows us to better tune our algorithms, understand and confirm their decisions, and intervene in the case some of them don’t make sense.<br>"
   ]
  },
  {
   "cell_type": "markdown",
   "metadata": {},
   "source": [
    "### Interpretable models"
   ]
  },
  {
   "cell_type": "markdown",
   "metadata": {},
   "source": [
    "Interpretable models allow us to not only know what factors are being taken into consideration when making a prediction, but also to get a better insight into the data. By using interpretable models, we were able to know what the most important variables are, how they relate to each other and to better understand the data distribution. Interpret and its community extensions worked quite well, except for a few warnings and unexpected errors. They allowed us to get an easy summary of the glass-box models which would previously have taken substantially more work, and to have an insight into the black-box models which would simply not have been possible.<br>"
   ]
  },
  {
   "cell_type": "markdown",
   "metadata": {},
   "source": [
    "### Dataset insights"
   ]
  },
  {
   "cell_type": "markdown",
   "metadata": {},
   "source": [
    "By looking at the results of our models, as well as using some commons sense and understanding of the domain we were capable of spotting a few things.<br>\n",
    "\"credit.policy\" was a pretty good predictor for our data, especially since it was a binary variable, this comes at the fact that it is a compilation of several other factors using domain knowledge, which is intended as a risk assessment.<br>\n",
    "\"int.rate\" and \"installment\" play a major role in whether or not the loan will default, which is what we would expect. In this sense we were able to confirm our suspicions.<br>\n",
    "Two more surprising results were the roles of \"inq.last.6mths\" and \"purpose_small_business\". For the first one, although we would expect some correlation with the result, we would also expect this correlation to be taken care of by the other variables, as such reducing its influence. This indicates, that regardless of the other objective values, some customers will simply be (or not be) a problem. This indicates the complexity of our domain. The second one (\"purpose_small_business\") indicates that small businesses are a risk, given that this is the type of loan most likely to cause a default in payment.<br>"
   ]
  },
  {
   "cell_type": "markdown",
   "metadata": {},
   "source": [
    "### Problems to have into consideration"
   ]
  },
  {
   "cell_type": "markdown",
   "metadata": {},
   "source": [
    "The first problem, which affects the entire analysis is the one of survivorship bias. What this means, is that we are only looking at the data that already passed through some filtering, in this case the one to decide whether a loan would be given in the first place. As we only have the data for the loans that were allowed, our models and conclusion only make sense for the cases which would have already passed this process, and not for the population in general. As such the models should not be used to decide whether or not to give out a loan, by them self’s.<br>"
   ]
  },
  {
   "cell_type": "markdown",
   "metadata": {},
   "source": [
    "The second one, which is most obvious in the random forests, is the problem of obvious misclassification. The results would have to be carefully analyzed and either the ones which are wrong automatically removed, or in the case that this is not possible, have an expert look over the decisions to make sure they make sense.<br>"
   ]
  }
 ],
 "metadata": {
  "kernelspec": {
   "display_name": "Python 3",
   "language": "python",
   "name": "python3"
  },
  "language_info": {
   "codemirror_mode": {
    "name": "ipython",
    "version": 3
   },
   "file_extension": ".py",
   "mimetype": "text/x-python",
   "name": "python",
   "nbconvert_exporter": "python",
   "pygments_lexer": "ipython3",
   "version": "3.6.8"
  }
 },
 "nbformat": 4,
 "nbformat_minor": 4
}
